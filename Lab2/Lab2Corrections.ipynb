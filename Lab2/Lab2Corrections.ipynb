{
 "cells": [
  {
   "cell_type": "markdown",
   "id": "849210f1",
   "metadata": {},
   "source": [
    "# Lab 2, Classification\n",
    "\n",
    "# Group 1, Ben Goodwin and Andre Mauldin\n",
    "\n",
    "# Resubmission Summary\n",
    "\n",
    "## Data Preperation Part I\n",
    "\n",
    "This section is unchanged\n",
    "\n",
    "\n",
    "## Data Preperation Part II\n",
    "\n",
    "This section is unchanged\n",
    "\n",
    "\n",
    "## Modeling and Evaluation I\n",
    "\n",
    "This section is unchanged\n",
    "\n",
    "## Modeling and Evaluation II\n",
    "\n",
    "This section was completely re-worked based on the feedback from the first submission.  The outline of this section was completed to include details on our chosen CV metric for both our classification task and our regression task.  We informed the reader of the validation metrics as well as how we aim to interpret and evaluate our model performance.  In terms of actual coding, we used this section to include CV code matching our chosen method.  This CV code is now referenced throughout the document and becuause of these changes our code is more consistent and human readable.  \n",
    "\n",
    "## Modeling and Evaluation III\n",
    "\n",
    "Section modifed heavily to match project specifications.  Section is broken into two main parts, the first part creates three different regression models for each task.  The models are: LASSO, Ridge, and Elastic net.  The second part creates three different classification models for each task.  Those models are: KNN, Random Forest, and Gaussian Navie Bayes.  \n",
    "\n",
    "We addressed the issue of matching CV seed not matching the part from modeling and evaluation II.  Each regression and classification model refrences the CV seed set in the prior section.  This makes the results consistent and reproducable.  \n",
    "\n",
    "\"CappedLinearRegression\" was removed, it makes no sense to clip all delay times.  \n",
    "\n",
    "Results and tuning from the models have been restructured and are clearly indicated.  \n",
    "\n",
    "Gridseach has been fixed to qualify for paramter tuning and the widgets are correctly working and can be adjusted based on user input.  \n",
    "\n",
    "\"EvaluateRegressionEstimator\" is now correctly implemented and displays results for each model.  \n",
    "\n",
    "I spent a long period of time adjusting and reworking this section, and the results are now accurately displayed.  I believe since Andre submitted the original file, he did not have the correct libraries installed to run widgets and caused many of our results to not appear, I apologize for this and have fixed those issues.\n",
    "\n",
    "## Modeling and Evaluation IV\n",
    "\n",
    "Section completely re-done to fit feedback and project specifications.  Like prior sections this is broken into two distinct parts, the first being related to the regression task and the second is related to the classification task.  Within modeling and evaluation two, we built the models and gave each model the ability to have it's paramters adjusted, and we learned which paramter adjustments led to the best model performance.  These paramters and models were brought into modeling and evaluation IV for analysis and comparison.  Each model was visualized (regression task displayed a table of CV results and different metrics (MSE, RMSE, MAPE) and classification task displayed plots of within class accuracy (displaying how each algorithm correctly classfied on-time and not-on-time flights.  I explained why each model was useful and disucssed trade offs between performance and accuracy.  The best performing regression model was LASSO with a MSE of around 40.0, and the best performing classification algorithm was random forest with an accuracy around 72% (this did NOT meet our metric for success (that was 0.8).  But we explained that despite this fact, the models were still much better than randomly guessing if a flight was delayed on arrival or not.  \n",
    "\n",
    "## Modeling and Evaluation V\n",
    "\n",
    "## Modeling and Evaluation VI\n",
    "\n",
    "## Deployment \n",
    "\n",
    "This section is unchanged\n",
    "\n",
    "\n",
    "\n",
    "\n",
    "\n",
    "In this analysis we will build upon the mini project and add additional modeling from new classification techniques.\n",
    "\n",
    "We will classify if a given flight will have an on time arrival or not\n",
    "\n",
    "We will regress the arrival delay length given a delay type, operating airline, origin airport, and month.  \n"
   ]
  },
  {
   "cell_type": "markdown",
   "id": "16475a9f",
   "metadata": {},
   "source": [
    "# Data Preperation Part I\n",
    "\n",
    "In this section we define and prepare our class varaibles, we one-hot encoded operating carrier, origin, and month.  We also changed the time information into properly represented time objects.  As we embded varaibles into others we remove the unnecessary variables.  We also scaled the varaibles.  "
   ]
  },
  {
   "cell_type": "code",
   "execution_count": 1,
   "id": "3deb3141",
   "metadata": {},
   "outputs": [],
   "source": [
    "#import libraries\n",
    "from __future__ import print_function\n",
    "from sklearn import metrics as mt\n",
    "from sklearn.model_selection import StratifiedShuffleSplit\n",
    "from sklearn.model_selection import cross_validate\n",
    "from sklearn.neighbors import KNeighborsClassifier\n",
    "from sklearn.metrics import accuracy_score\n",
    "from sklearn.model_selection import cross_validate\n",
    "from sklearn.neighbors import KNeighborsClassifier\n",
    "from sklearn.metrics import accuracy_score\n",
    "from sklearn.preprocessing import StandardScaler\n",
    "from sklearn import svm\n",
    "from sklearn.naive_bayes import MultinomialNB\n",
    "from imblearn.over_sampling import SMOTE\n",
    "from ipywidgets import widgets as wd\n",
    "\n",
    "import pandas as pd\n",
    "import numpy as np\n",
    "import matplotlib.pyplot as plt\n",
    "import seaborn as sns\n",
    "\n",
    "#Read in the flight delay data\n",
    "#Our data is from Department of transportation\n",
    "#https://www.bts.gov/topics/airlines-and-airports/number-14-time-reporting\n",
    "df = pd.read_csv('2018.csv') # read in the csv file\n",
    "#df.info()\n",
    "\n",
    "#We will create two datasets from this original file (one for classification and one for regression)\n",
    "#Reduce dataset to a more manageable size.\n",
    "#We randomly sampled 150,000 records.  This is a reasonable sample size that will not cause excessively long computation times\n",
    "dfReduced=df.sample(n=150000, random_state=1)\n",
    "dfReduced2=df.sample(n=500000,random_state=3)"
   ]
  },
  {
   "cell_type": "markdown",
   "id": "925db372",
   "metadata": {},
   "source": [
    "### Cleaning up the Data\n",
    "\n",
    "Next, we create an array of each type of delay. This will be helpful as we will need to handle the missing values for the delays."
   ]
  },
  {
   "cell_type": "code",
   "execution_count": 2,
   "id": "9a8f3a95",
   "metadata": {},
   "outputs": [
    {
     "data": {
      "text/html": [
       "<div>\n",
       "<style scoped>\n",
       "    .dataframe tbody tr th:only-of-type {\n",
       "        vertical-align: middle;\n",
       "    }\n",
       "\n",
       "    .dataframe tbody tr th {\n",
       "        vertical-align: top;\n",
       "    }\n",
       "\n",
       "    .dataframe thead th {\n",
       "        text-align: right;\n",
       "    }\n",
       "</style>\n",
       "<table border=\"1\" class=\"dataframe\">\n",
       "  <thead>\n",
       "    <tr style=\"text-align: right;\">\n",
       "      <th></th>\n",
       "      <th>DEP_DELAY</th>\n",
       "      <th>ARR_DELAY</th>\n",
       "      <th>CARRIER_DELAY</th>\n",
       "      <th>WEATHER_DELAY</th>\n",
       "      <th>NAS_DELAY</th>\n",
       "      <th>SECURITY_DELAY</th>\n",
       "      <th>LATE_AIRCRAFT_DELAY</th>\n",
       "    </tr>\n",
       "  </thead>\n",
       "  <tbody>\n",
       "    <tr>\n",
       "      <th>count</th>\n",
       "      <td>491811.00000</td>\n",
       "      <td>490477.00000</td>\n",
       "      <td>93509.00000</td>\n",
       "      <td>93509.00000</td>\n",
       "      <td>93509.00000</td>\n",
       "      <td>93509.00000</td>\n",
       "      <td>93509.00000</td>\n",
       "    </tr>\n",
       "    <tr>\n",
       "      <th>mean</th>\n",
       "      <td>9.92004</td>\n",
       "      <td>4.95151</td>\n",
       "      <td>19.41729</td>\n",
       "      <td>3.67115</td>\n",
       "      <td>15.84077</td>\n",
       "      <td>0.08282</td>\n",
       "      <td>25.50798</td>\n",
       "    </tr>\n",
       "    <tr>\n",
       "      <th>std</th>\n",
       "      <td>44.99009</td>\n",
       "      <td>47.04811</td>\n",
       "      <td>58.55557</td>\n",
       "      <td>30.83027</td>\n",
       "      <td>36.46026</td>\n",
       "      <td>2.34391</td>\n",
       "      <td>50.18457</td>\n",
       "    </tr>\n",
       "    <tr>\n",
       "      <th>min</th>\n",
       "      <td>-112.00000</td>\n",
       "      <td>-108.00000</td>\n",
       "      <td>0.00000</td>\n",
       "      <td>0.00000</td>\n",
       "      <td>0.00000</td>\n",
       "      <td>0.00000</td>\n",
       "      <td>0.00000</td>\n",
       "    </tr>\n",
       "    <tr>\n",
       "      <th>25%</th>\n",
       "      <td>-5.00000</td>\n",
       "      <td>-14.00000</td>\n",
       "      <td>0.00000</td>\n",
       "      <td>0.00000</td>\n",
       "      <td>0.00000</td>\n",
       "      <td>0.00000</td>\n",
       "      <td>0.00000</td>\n",
       "    </tr>\n",
       "    <tr>\n",
       "      <th>50%</th>\n",
       "      <td>-2.00000</td>\n",
       "      <td>-6.00000</td>\n",
       "      <td>0.00000</td>\n",
       "      <td>0.00000</td>\n",
       "      <td>3.00000</td>\n",
       "      <td>0.00000</td>\n",
       "      <td>2.00000</td>\n",
       "    </tr>\n",
       "    <tr>\n",
       "      <th>75%</th>\n",
       "      <td>7.00000</td>\n",
       "      <td>8.00000</td>\n",
       "      <td>17.00000</td>\n",
       "      <td>0.00000</td>\n",
       "      <td>20.00000</td>\n",
       "      <td>0.00000</td>\n",
       "      <td>31.00000</td>\n",
       "    </tr>\n",
       "    <tr>\n",
       "      <th>max</th>\n",
       "      <td>2468.00000</td>\n",
       "      <td>2454.00000</td>\n",
       "      <td>1510.00000</td>\n",
       "      <td>1352.00000</td>\n",
       "      <td>1491.00000</td>\n",
       "      <td>297.00000</td>\n",
       "      <td>2454.00000</td>\n",
       "    </tr>\n",
       "  </tbody>\n",
       "</table>\n",
       "</div>"
      ],
      "text/plain": [
       "          DEP_DELAY     ARR_DELAY CARRIER_DELAY WEATHER_DELAY    NAS_DELAY  \\\n",
       "count  491811.00000  490477.00000   93509.00000   93509.00000  93509.00000   \n",
       "mean        9.92004       4.95151      19.41729       3.67115     15.84077   \n",
       "std        44.99009      47.04811      58.55557      30.83027     36.46026   \n",
       "min      -112.00000    -108.00000       0.00000       0.00000      0.00000   \n",
       "25%        -5.00000     -14.00000       0.00000       0.00000      0.00000   \n",
       "50%        -2.00000      -6.00000       0.00000       0.00000      3.00000   \n",
       "75%         7.00000       8.00000      17.00000       0.00000     20.00000   \n",
       "max      2468.00000    2454.00000    1510.00000    1352.00000   1491.00000   \n",
       "\n",
       "      SECURITY_DELAY LATE_AIRCRAFT_DELAY  \n",
       "count    93509.00000         93509.00000  \n",
       "mean         0.08282            25.50798  \n",
       "std          2.34391            50.18457  \n",
       "min          0.00000             0.00000  \n",
       "25%          0.00000             0.00000  \n",
       "50%          0.00000             2.00000  \n",
       "75%          0.00000            31.00000  \n",
       "max        297.00000          2454.00000  "
      ]
     },
     "execution_count": 2,
     "metadata": {},
     "output_type": "execute_result"
    }
   ],
   "source": [
    "#Remove attributes that just arent useful for us\n",
    "#Each of these variables removed is either of no use or can be derived using other variables in dataset. \n",
    "#Logistic regression dataframe\n",
    "del dfReduced['DIVERTED']\n",
    "#del dfReduced['DISTANCE']\n",
    "del dfReduced['TAXI_OUT']\n",
    "del dfReduced['TAXI_IN']\n",
    "del dfReduced['Unnamed: 27']\n",
    "del dfReduced['CANCELLED']\n",
    "del dfReduced['CANCELLATION_CODE']\n",
    "del dfReduced['DEST']\n",
    "del dfReduced['OP_CARRIER_FL_NUM']\n",
    "del dfReduced['WHEELS_ON']\n",
    "del dfReduced['DEP_TIME']\n",
    "del dfReduced['WHEELS_OFF']\n",
    "#del dfReduced['CRS_DEP_TIME']\n",
    "\n",
    "#Linear Regression Data frame\n",
    "del dfReduced2['DIVERTED']\n",
    "del dfReduced2['DISTANCE']\n",
    "del dfReduced2['TAXI_OUT']\n",
    "del dfReduced2['TAXI_IN']\n",
    "del dfReduced2['Unnamed: 27']\n",
    "del dfReduced2['CANCELLED']\n",
    "del dfReduced2['CANCELLATION_CODE']\n",
    "del dfReduced2['DEST']\n",
    "del dfReduced2['OP_CARRIER_FL_NUM']\n",
    "del dfReduced2['WHEELS_ON']\n",
    "del dfReduced2['DEP_TIME']\n",
    "del dfReduced2['WHEELS_OFF']\n",
    "#del dfReduced2['CRS_DEP_TIME']\n",
    "\n",
    "\n",
    "\n",
    "#Bring all delay types into one variable \"delayArr\"\n",
    "\n",
    "delayArr = [\n",
    "    'DEP_DELAY'\n",
    "    ,'ARR_DELAY'\n",
    "    ,'CARRIER_DELAY'\n",
    "    ,'WEATHER_DELAY'\n",
    "    ,'NAS_DELAY'\n",
    "    ,'SECURITY_DELAY'\n",
    "    ,'LATE_AIRCRAFT_DELAY'\n",
    "]\n",
    "#LR df\n",
    "dfReduced[delayArr].describe().apply(lambda s: s.apply('{0:.5f}'.format)) # will get summary of continuous or the nominals non-scientific\n",
    "#Reg df\n",
    "dfReduced2[delayArr].describe().apply(lambda s: s.apply('{0:.5f}'.format)) # will get summary of continuous or the nominals non-scientific"
   ]
  },
  {
   "cell_type": "code",
   "execution_count": 3,
   "id": "31a724f4",
   "metadata": {},
   "outputs": [],
   "source": [
    "#Here we take the date of the flight and place it into a month so that we can investiage seasonal trends and create our\n",
    "#outcome variable of \"ON_TIME_ARRIVAL.\"  This is what we will be predicting\n",
    "#LR model\n",
    "dfReduced['MONTH'] = dfReduced['FL_DATE'].str[5:7]\n",
    "conditions = [\n",
    "    (dfReduced['CRS_ARR_TIME'] >= dfReduced['ARR_TIME']),\n",
    "    (dfReduced['CRS_ARR_TIME'] < dfReduced['ARR_TIME'])]\n",
    "choices = [1, 0]\n",
    "\n",
    "dfReduced['ON_TIME_ARRIVAL'] = np.select(conditions, choices, default='null')\n",
    "\n",
    "#Reg model\n",
    "dfReduced2['MONTH'] = dfReduced2['FL_DATE'].str[5:7]\n",
    "conditions = [\n",
    "    (dfReduced2['CRS_ARR_TIME'] >= dfReduced2['ARR_TIME']),\n",
    "    (dfReduced2['CRS_ARR_TIME'] < dfReduced2['ARR_TIME'])]\n",
    "choices = [1, 0]\n",
    "\n",
    "dfReduced2['ON_TIME_ARRIVAL'] = np.select(conditions, choices, default='null')"
   ]
  },
  {
   "cell_type": "markdown",
   "id": "0ddcb8ab",
   "metadata": {},
   "source": [
    "We are dropping rows that are NA for arrival time, expected arrival time, actual elapsed time, and air time. We are only interested in flights that arrived at their destination.\n",
    "\n",
    "Arrival time is needed to calculate OTA in order to train the model. ACTUAL_ELAPSED_TIME and AIR_TIME are related to the how long it took to flight to arrive at it's destination. We drop the NAs because only flights that actually arrive will have a value.\n",
    "\n",
    "For our delay variables, we set the NAs to 0.0, meaning there was no delay.  The previous value wa NaN which can't be calculated using logistic regression."
   ]
  },
  {
   "cell_type": "code",
   "execution_count": 4,
   "id": "00117ee2",
   "metadata": {},
   "outputs": [],
   "source": [
    "# We are only interested in flights that actually arrived.\n",
    "# NAs are very few for these columns.  We will drop them.\n",
    "# LR model\n",
    "dfReduced = dfReduced.dropna(subset=['ARR_TIME', 'CRS_ELAPSED_TIME', 'ACTUAL_ELAPSED_TIME', 'AIR_TIME'])\n",
    "\n",
    "# Set NaN values to 0.0 to show zero minutes for delay time. Used array and for loop to avoid repetetive code\n",
    "\n",
    "def replaceNaN(data, arr):\n",
    "    for delayType in arr:\n",
    "        data[delayType] = data[delayType].fillna(0.0)\n",
    "    return data\n",
    "\n",
    "dfReduced = replaceNaN(dfReduced, delayArr)\n",
    "\n",
    "#Reg Model\n",
    "dfReduced2 = dfReduced2.dropna(subset=['ARR_TIME', 'CRS_ELAPSED_TIME', 'ACTUAL_ELAPSED_TIME', 'AIR_TIME'])\n",
    "\n",
    "# Set NaN values to 0.0 to show zero minutes for delay time. Used array and for loop to avoid repetetive code\n",
    "\n",
    "def replaceNaN(data, arr):\n",
    "    for delayType in arr:\n",
    "        data[delayType] = data[delayType].fillna(0.0)\n",
    "    return data\n",
    "\n",
    "dfReduced2 = replaceNaN(dfReduced2, delayArr)\n",
    "\n"
   ]
  },
  {
   "cell_type": "code",
   "execution_count": 5,
   "id": "0c28fb1a",
   "metadata": {},
   "outputs": [
    {
     "name": "stdout",
     "output_type": "stream",
     "text": [
      "<class 'pandas.core.frame.DataFrame'>\n",
      "Int64Index: 45284 entries, 929508 to 6830663\n",
      "Data columns (total 18 columns):\n",
      " #   Column               Non-Null Count  Dtype  \n",
      "---  ------               --------------  -----  \n",
      " 0   OP_CARRIER           45284 non-null  object \n",
      " 1   ORIGIN               45284 non-null  object \n",
      " 2   CRS_DEP_TIME         45284 non-null  int64  \n",
      " 3   DEP_DELAY            45284 non-null  float64\n",
      " 4   CRS_ARR_TIME         45284 non-null  int64  \n",
      " 5   ARR_TIME             45284 non-null  float64\n",
      " 6   ARR_DELAY            45284 non-null  float64\n",
      " 7   CRS_ELAPSED_TIME     45284 non-null  float64\n",
      " 8   ACTUAL_ELAPSED_TIME  45284 non-null  float64\n",
      " 9   AIR_TIME             45284 non-null  float64\n",
      " 10  DISTANCE             45284 non-null  float64\n",
      " 11  CARRIER_DELAY        45284 non-null  float64\n",
      " 12  WEATHER_DELAY        45284 non-null  float64\n",
      " 13  NAS_DELAY            45284 non-null  float64\n",
      " 14  SECURITY_DELAY       45284 non-null  float64\n",
      " 15  LATE_AIRCRAFT_DELAY  45284 non-null  float64\n",
      " 16  MONTH                45284 non-null  object \n",
      " 17  ON_TIME_ARRIVAL      45284 non-null  object \n",
      "dtypes: float64(12), int64(2), object(4)\n",
      "memory usage: 6.6+ MB\n",
      "<class 'pandas.core.frame.DataFrame'>\n",
      "Int64Index: 150894 entries, 3661586 to 2446952\n",
      "Data columns (total 17 columns):\n",
      " #   Column               Non-Null Count   Dtype  \n",
      "---  ------               --------------   -----  \n",
      " 0   OP_CARRIER           150894 non-null  object \n",
      " 1   ORIGIN               150894 non-null  object \n",
      " 2   CRS_DEP_TIME         150894 non-null  int64  \n",
      " 3   DEP_DELAY            150894 non-null  float64\n",
      " 4   CRS_ARR_TIME         150894 non-null  int64  \n",
      " 5   ARR_TIME             150894 non-null  float64\n",
      " 6   ARR_DELAY            150894 non-null  float64\n",
      " 7   CRS_ELAPSED_TIME     150894 non-null  float64\n",
      " 8   ACTUAL_ELAPSED_TIME  150894 non-null  float64\n",
      " 9   AIR_TIME             150894 non-null  float64\n",
      " 10  CARRIER_DELAY        150894 non-null  float64\n",
      " 11  WEATHER_DELAY        150894 non-null  float64\n",
      " 12  NAS_DELAY            150894 non-null  float64\n",
      " 13  SECURITY_DELAY       150894 non-null  float64\n",
      " 14  LATE_AIRCRAFT_DELAY  150894 non-null  float64\n",
      " 15  MONTH                150894 non-null  object \n",
      " 16  ON_TIME_ARRIVAL      150894 non-null  object \n",
      "dtypes: float64(11), int64(2), object(4)\n",
      "memory usage: 20.7+ MB\n"
     ]
    }
   ],
   "source": [
    "#Now that we have month, lets get rid of FL_DATE as the information is captured\n",
    "#LR model\n",
    "del dfReduced['FL_DATE']\n",
    "#Lets reduce to top 10 airports by passengers for 2018\n",
    "#https://en.wikipedia.org/wiki/List_of_the_busiest_airports_in_the_United_States#Busiest_U.S._airports_by_total_passenger_traffic_(2018)\n",
    "dfReduced=dfReduced[dfReduced.ORIGIN.eq(\"ATL\")| dfReduced.ORIGIN.eq(\"LAX\")| dfReduced.ORIGIN.eq(\"ORD\")| dfReduced.ORIGIN.eq(\"DFW\")| dfReduced.ORIGIN.eq(\"DEN\")| dfReduced.ORIGIN.eq(\"JFK\")| dfReduced.ORIGIN.eq(\"SFO\")| dfReduced.ORIGIN.eq(\"SEA\")| dfReduced.ORIGIN.eq(\"LAS\")| dfReduced.ORIGIN.eq(\"MCO\")]\n",
    "#print(dfReduced)\n",
    "dfReduced[['OP_CARRIER','ORIGIN','MONTH','ON_TIME_ARRIVAL']].describe().transpose()\n",
    "\n",
    "#Make sure datatypes for all variables are good to go\n",
    "dfReduced.info()\n",
    "\n",
    "#Reg model\n",
    "del dfReduced2['FL_DATE']\n",
    "#Lets reduce to top 10 airports by passengers for 2018\n",
    "#https://en.wikipedia.org/wiki/List_of_the_busiest_airports_in_the_United_States#Busiest_U.S._airports_by_total_passenger_traffic_(2018)\n",
    "dfReduced2=dfReduced2[dfReduced2.ORIGIN.eq(\"ATL\")| dfReduced2.ORIGIN.eq(\"LAX\")| dfReduced2.ORIGIN.eq(\"ORD\")| dfReduced2.ORIGIN.eq(\"DFW\")| dfReduced2.ORIGIN.eq(\"DEN\")| dfReduced2.ORIGIN.eq(\"JFK\")| dfReduced2.ORIGIN.eq(\"SFO\")| dfReduced2.ORIGIN.eq(\"SEA\")| dfReduced2.ORIGIN.eq(\"LAS\")| dfReduced2.ORIGIN.eq(\"MCO\")]\n",
    "#print(dfReduced)\n",
    "dfReduced2[['OP_CARRIER','ORIGIN','MONTH','ON_TIME_ARRIVAL']].describe().transpose()\n",
    "\n",
    "#Make sure datatypes for all variables are good to go\n",
    "dfReduced2.info()"
   ]
  },
  {
   "cell_type": "markdown",
   "id": "2f42980d",
   "metadata": {},
   "source": [
    "### Perform One-Hot encoding of categorical data\n",
    "\n",
    "#### Remove other unused variables\n",
    "\n",
    "#### Also remove variables that are captured in other variables"
   ]
  },
  {
   "cell_type": "code",
   "execution_count": 6,
   "id": "c44a68e6",
   "metadata": {},
   "outputs": [
    {
     "name": "stdout",
     "output_type": "stream",
     "text": [
      "<class 'pandas.core.frame.DataFrame'>\n",
      "Int64Index: 45284 entries, 929508 to 6830663\n",
      "Data columns (total 18 columns):\n",
      " #   Column               Non-Null Count  Dtype  \n",
      "---  ------               --------------  -----  \n",
      " 0   OP_CARRIER           45284 non-null  object \n",
      " 1   ORIGIN               45284 non-null  object \n",
      " 2   CRS_DEP_TIME         45284 non-null  int64  \n",
      " 3   DEP_DELAY            45284 non-null  float64\n",
      " 4   CRS_ARR_TIME         45284 non-null  int64  \n",
      " 5   ARR_TIME             45284 non-null  float64\n",
      " 6   ARR_DELAY            45284 non-null  float64\n",
      " 7   CRS_ELAPSED_TIME     45284 non-null  float64\n",
      " 8   ACTUAL_ELAPSED_TIME  45284 non-null  float64\n",
      " 9   AIR_TIME             45284 non-null  float64\n",
      " 10  DISTANCE             45284 non-null  float64\n",
      " 11  CARRIER_DELAY        45284 non-null  float64\n",
      " 12  WEATHER_DELAY        45284 non-null  float64\n",
      " 13  NAS_DELAY            45284 non-null  float64\n",
      " 14  SECURITY_DELAY       45284 non-null  float64\n",
      " 15  LATE_AIRCRAFT_DELAY  45284 non-null  float64\n",
      " 16  MONTH                45284 non-null  object \n",
      " 17  ON_TIME_ARRIVAL      45284 non-null  object \n",
      "dtypes: float64(12), int64(2), object(4)\n",
      "memory usage: 6.6+ MB\n"
     ]
    }
   ],
   "source": [
    "dfReduced.info()"
   ]
  },
  {
   "cell_type": "code",
   "execution_count": 7,
   "id": "983af1a7",
   "metadata": {},
   "outputs": [
    {
     "name": "stdout",
     "output_type": "stream",
     "text": [
      "<class 'pandas.core.frame.DataFrame'>\n",
      "Int64Index: 45284 entries, 929508 to 6830663\n",
      "Data columns (total 51 columns):\n",
      " #   Column                Non-Null Count  Dtype  \n",
      "---  ------                --------------  -----  \n",
      " 0   CRS_DEP_TIME          45284 non-null  int64  \n",
      " 1   DEP_DELAY             45284 non-null  float64\n",
      " 2   ACTUAL_ELAPSED_TIME   45284 non-null  float64\n",
      " 3   AIR_TIME              45284 non-null  float64\n",
      " 4   DISTANCE              45284 non-null  float64\n",
      " 5   CARRIER_DELAY         45284 non-null  float64\n",
      " 6   WEATHER_DELAY         45284 non-null  float64\n",
      " 7   NAS_DELAY             45284 non-null  float64\n",
      " 8   SECURITY_DELAY        45284 non-null  float64\n",
      " 9   LATE_AIRCRAFT_DELAY   45284 non-null  float64\n",
      " 10  ON_TIME_ARRIVAL       45284 non-null  object \n",
      " 11  Operating Carrier_9E  45284 non-null  uint8  \n",
      " 12  Operating Carrier_AA  45284 non-null  uint8  \n",
      " 13  Operating Carrier_AS  45284 non-null  uint8  \n",
      " 14  Operating Carrier_B6  45284 non-null  uint8  \n",
      " 15  Operating Carrier_DL  45284 non-null  uint8  \n",
      " 16  Operating Carrier_EV  45284 non-null  uint8  \n",
      " 17  Operating Carrier_F9  45284 non-null  uint8  \n",
      " 18  Operating Carrier_G4  45284 non-null  uint8  \n",
      " 19  Operating Carrier_HA  45284 non-null  uint8  \n",
      " 20  Operating Carrier_MQ  45284 non-null  uint8  \n",
      " 21  Operating Carrier_NK  45284 non-null  uint8  \n",
      " 22  Operating Carrier_OH  45284 non-null  uint8  \n",
      " 23  Operating Carrier_OO  45284 non-null  uint8  \n",
      " 24  Operating Carrier_UA  45284 non-null  uint8  \n",
      " 25  Operating Carrier_VX  45284 non-null  uint8  \n",
      " 26  Operating Carrier_WN  45284 non-null  uint8  \n",
      " 27  Operating Carrier_YV  45284 non-null  uint8  \n",
      " 28  Operating Carrier_YX  45284 non-null  uint8  \n",
      " 29  Origin_ATL            45284 non-null  uint8  \n",
      " 30  Origin_DEN            45284 non-null  uint8  \n",
      " 31  Origin_DFW            45284 non-null  uint8  \n",
      " 32  Origin_JFK            45284 non-null  uint8  \n",
      " 33  Origin_LAS            45284 non-null  uint8  \n",
      " 34  Origin_LAX            45284 non-null  uint8  \n",
      " 35  Origin_MCO            45284 non-null  uint8  \n",
      " 36  Origin_ORD            45284 non-null  uint8  \n",
      " 37  Origin_SEA            45284 non-null  uint8  \n",
      " 38  Origin_SFO            45284 non-null  uint8  \n",
      " 39  Month_01              45284 non-null  uint8  \n",
      " 40  Month_02              45284 non-null  uint8  \n",
      " 41  Month_03              45284 non-null  uint8  \n",
      " 42  Month_04              45284 non-null  uint8  \n",
      " 43  Month_05              45284 non-null  uint8  \n",
      " 44  Month_06              45284 non-null  uint8  \n",
      " 45  Month_07              45284 non-null  uint8  \n",
      " 46  Month_08              45284 non-null  uint8  \n",
      " 47  Month_09              45284 non-null  uint8  \n",
      " 48  Month_10              45284 non-null  uint8  \n",
      " 49  Month_11              45284 non-null  uint8  \n",
      " 50  Month_12              45284 non-null  uint8  \n",
      "dtypes: float64(9), int64(1), object(1), uint8(40)\n",
      "memory usage: 5.9+ MB\n",
      "<class 'pandas.core.frame.DataFrame'>\n",
      "Int64Index: 150894 entries, 3661586 to 2446952\n",
      "Data columns (total 52 columns):\n",
      " #   Column                Non-Null Count   Dtype  \n",
      "---  ------                --------------   -----  \n",
      " 0   CRS_DEP_TIME          150894 non-null  int64  \n",
      " 1   DEP_DELAY             150894 non-null  float64\n",
      " 2   CRS_ARR_TIME          150894 non-null  int64  \n",
      " 3   ARR_TIME              150894 non-null  float64\n",
      " 4   ACTUAL_ELAPSED_TIME   150894 non-null  float64\n",
      " 5   AIR_TIME              150894 non-null  float64\n",
      " 6   CARRIER_DELAY         150894 non-null  float64\n",
      " 7   WEATHER_DELAY         150894 non-null  float64\n",
      " 8   NAS_DELAY             150894 non-null  float64\n",
      " 9   SECURITY_DELAY        150894 non-null  float64\n",
      " 10  LATE_AIRCRAFT_DELAY   150894 non-null  float64\n",
      " 11  ON_TIME_ARRIVAL       150894 non-null  object \n",
      " 12  Operating Carrier_9E  150894 non-null  uint8  \n",
      " 13  Operating Carrier_AA  150894 non-null  uint8  \n",
      " 14  Operating Carrier_AS  150894 non-null  uint8  \n",
      " 15  Operating Carrier_B6  150894 non-null  uint8  \n",
      " 16  Operating Carrier_DL  150894 non-null  uint8  \n",
      " 17  Operating Carrier_EV  150894 non-null  uint8  \n",
      " 18  Operating Carrier_F9  150894 non-null  uint8  \n",
      " 19  Operating Carrier_G4  150894 non-null  uint8  \n",
      " 20  Operating Carrier_HA  150894 non-null  uint8  \n",
      " 21  Operating Carrier_MQ  150894 non-null  uint8  \n",
      " 22  Operating Carrier_NK  150894 non-null  uint8  \n",
      " 23  Operating Carrier_OH  150894 non-null  uint8  \n",
      " 24  Operating Carrier_OO  150894 non-null  uint8  \n",
      " 25  Operating Carrier_UA  150894 non-null  uint8  \n",
      " 26  Operating Carrier_VX  150894 non-null  uint8  \n",
      " 27  Operating Carrier_WN  150894 non-null  uint8  \n",
      " 28  Operating Carrier_YV  150894 non-null  uint8  \n",
      " 29  Operating Carrier_YX  150894 non-null  uint8  \n",
      " 30  Origin_ATL            150894 non-null  uint8  \n",
      " 31  Origin_DEN            150894 non-null  uint8  \n",
      " 32  Origin_DFW            150894 non-null  uint8  \n",
      " 33  Origin_JFK            150894 non-null  uint8  \n",
      " 34  Origin_LAS            150894 non-null  uint8  \n",
      " 35  Origin_LAX            150894 non-null  uint8  \n",
      " 36  Origin_MCO            150894 non-null  uint8  \n",
      " 37  Origin_ORD            150894 non-null  uint8  \n",
      " 38  Origin_SEA            150894 non-null  uint8  \n",
      " 39  Origin_SFO            150894 non-null  uint8  \n",
      " 40  Month_01              150894 non-null  uint8  \n",
      " 41  Month_02              150894 non-null  uint8  \n",
      " 42  Month_03              150894 non-null  uint8  \n",
      " 43  Month_04              150894 non-null  uint8  \n",
      " 44  Month_05              150894 non-null  uint8  \n",
      " 45  Month_06              150894 non-null  uint8  \n",
      " 46  Month_07              150894 non-null  uint8  \n",
      " 47  Month_08              150894 non-null  uint8  \n",
      " 48  Month_09              150894 non-null  uint8  \n",
      " 49  Month_10              150894 non-null  uint8  \n",
      " 50  Month_11              150894 non-null  uint8  \n",
      " 51  Month_12              150894 non-null  uint8  \n",
      "dtypes: float64(9), int64(2), object(1), uint8(40)\n",
      "memory usage: 20.7+ MB\n"
     ]
    }
   ],
   "source": [
    "#LR model\n",
    "# perform one-hot encoding of the categorical data \"OP_CARRIER\"\n",
    "tmp_df = pd.get_dummies(dfReduced.OP_CARRIER,prefix=\"Operating Carrier\")\n",
    "dfReduced = pd.concat((dfReduced,tmp_df),axis=1)\n",
    "\n",
    "# perform one-hot encoding of the categorical data \"ORIGIN\"\n",
    "tmp_df = pd.get_dummies(dfReduced.ORIGIN,prefix=\"Origin\")\n",
    "dfReduced = pd.concat((dfReduced,tmp_df),axis=1)\n",
    "\n",
    "# perform one-hot encoding of the categorical data \"Month\"\n",
    "tmp_df = pd.get_dummies(dfReduced.MONTH,prefix=\"Month\")\n",
    "dfReduced = pd.concat((dfReduced,tmp_df),axis=1)\n",
    "\n",
    "\n",
    "#Kill variables we hot-encoded\n",
    "del dfReduced['OP_CARRIER']\n",
    "del dfReduced['ORIGIN']\n",
    "del dfReduced['MONTH']\n",
    "\n",
    "#Create new DF for Regression Problem\n",
    "#If a flight is delayed, which delay type produces long delays?\n",
    "dfReg = dfReduced.copy()\n",
    "\n",
    "#Kill Varibles we no longer need because they are encoded in ON_TIME_ARRIVAL\n",
    "del dfReduced['ARR_TIME']\n",
    "del dfReduced['CRS_ARR_TIME']\n",
    "del dfReduced['CRS_ELAPSED_TIME']\n",
    "\n",
    "#Drop Arr_delay, because this is essentially a proxy for 'ON_TIME_ARRIVAL'\n",
    "del dfReduced['ARR_DELAY']\n",
    "\n",
    "dfReduced.info()\n",
    "\n",
    "\n",
    "#Reg model\n",
    "# perform one-hot encoding of the categorical data \"OP_CARRIER\"\n",
    "tmp_df = pd.get_dummies(dfReduced2.OP_CARRIER,prefix=\"Operating Carrier\")\n",
    "dfReduced2 = pd.concat((dfReduced2,tmp_df),axis=1)\n",
    "\n",
    "# perform one-hot encoding of the categorical data \"ORIGIN\"\n",
    "tmp_df = pd.get_dummies(dfReduced2.ORIGIN,prefix=\"Origin\")\n",
    "dfReduced2 = pd.concat((dfReduced2,tmp_df),axis=1)\n",
    "\n",
    "# perform one-hot encoding of the categorical data \"Month\"\n",
    "tmp_df = pd.get_dummies(dfReduced2.MONTH,prefix=\"Month\")\n",
    "dfReduced2 = pd.concat((dfReduced2,tmp_df),axis=1)\n",
    "\n",
    "\n",
    "#Kill variables we hot-encoded\n",
    "del dfReduced2['OP_CARRIER']\n",
    "del dfReduced2['ORIGIN']\n",
    "del dfReduced2['MONTH']\n",
    "\n",
    "#Create new DF for Regression Problem\n",
    "#If a flight is delayed, which delay type produces long delays?\n",
    "dfReg = dfReduced2.copy()\n",
    "\n",
    "#Kill Varibles we no longer need because they are encoded in ON_TIME_ARRIVAL\n",
    "del dfReduced2['CRS_ELAPSED_TIME']\n",
    "\n",
    "#Drop Arr_delay, because this is essentially a proxy for 'ON_TIME_ARRIVAL'\n",
    "del dfReduced2['ARR_DELAY']\n",
    "\n",
    "dfReduced2.info()"
   ]
  },
  {
   "cell_type": "code",
   "execution_count": 8,
   "id": "5d5d48c8",
   "metadata": {},
   "outputs": [
    {
     "data": {
      "image/png": "[encoded data removed]",
      "text/plain": [
       "<Figure size 432x288 with 1 Axes>"
      ]
     },
     "metadata": {
      "needs_background": "light"
     },
     "output_type": "display_data"
    }
   ],
   "source": [
    "#Investigate suitability of data for logistic regression\n",
    "#This data is quite imblanaced and could result in reasonably high classifcation by just assuming flights arrive on time.\n",
    "#This will need to be fixed. We correct this a few sections down, but its important to visualize now. \n",
    "import seaborn as sns\n",
    "#LR Model\n",
    "dfReduced['ON_TIME_ARRIVAL'].value_counts()\n",
    "\n",
    "sns.countplot(x='ON_TIME_ARRIVAL',data=dfReduced,palette='hls')\n",
    "\n",
    "#This section scales the variables to values between 0 and 1 in order to get the data ready for logistic regression.\n",
    "#We only scale variables that aren't already between 0 and 1\n",
    "from sklearn.preprocessing import MinMaxScaler\n",
    "\n",
    "# Scale only columns that have values greater than 1\n",
    "mms = MinMaxScaler()\n",
    "dfScaled=dfReduced\n",
    "dfScaled[[\"DEP_DELAY\",\"ACTUAL_ELAPSED_TIME\",\"AIR_TIME\",\"CARRIER_DELAY\",\"WEATHER_DELAY\",\"NAS_DELAY\",\n",
    "          \"SECURITY_DELAY\",\"LATE_AIRCRAFT_DELAY\"]] = mms.fit_transform(dfScaled[[\"DEP_DELAY\",\"ACTUAL_ELAPSED_TIME\",\"AIR_TIME\",\"CARRIER_DELAY\",\"WEATHER_DELAY\",\"NAS_DELAY\",\n",
    "          \"SECURITY_DELAY\",\"LATE_AIRCRAFT_DELAY\"]])\n",
    "\n",
    "\n",
    "#Reg Model\n",
    "dfReduced2['ON_TIME_ARRIVAL'].value_counts()\n",
    "\n",
    "sns.countplot(x='ON_TIME_ARRIVAL',data=dfReduced2,palette='hls')\n",
    "\n",
    "#This section scales the variables to values between 0 and 1 in order to get the data ready for logistic regression.\n",
    "#We only scale variables that aren't already between 0 and 1\n",
    "\n",
    "\n",
    "# Scale only columns that have values greater than 1\n",
    "mms2 = MinMaxScaler()\n",
    "dfScaled2=dfReduced2\n",
    "dfScaled2[[\"DEP_DELAY\",\"ACTUAL_ELAPSED_TIME\",\"AIR_TIME\",\"CARRIER_DELAY\",\"WEATHER_DELAY\",\"NAS_DELAY\",\n",
    "          \"SECURITY_DELAY\",\"LATE_AIRCRAFT_DELAY\"]] = mms2.fit_transform(dfScaled2[[\"DEP_DELAY\",\"ACTUAL_ELAPSED_TIME\",\"AIR_TIME\",\"CARRIER_DELAY\",\"WEATHER_DELAY\",\"NAS_DELAY\",\n",
    "          \"SECURITY_DELAY\",\"LATE_AIRCRAFT_DELAY\"]])"
   ]
  },
  {
   "cell_type": "code",
   "execution_count": 9,
   "id": "8534f1b0",
   "metadata": {},
   "outputs": [],
   "source": [
    "del dfReduced['DEP_DELAY']\n",
    "del dfReduced['CARRIER_DELAY']\n",
    "del dfReduced['WEATHER_DELAY']\n",
    "del dfReduced['NAS_DELAY']\n",
    "del dfReduced['SECURITY_DELAY']\n",
    "del dfReduced['LATE_AIRCRAFT_DELAY']"
   ]
  },
  {
   "cell_type": "markdown",
   "id": "8c749b3f",
   "metadata": {},
   "source": [
    "#### Data Preperation for Regression"
   ]
  },
  {
   "cell_type": "code",
   "execution_count": 10,
   "id": "2d5b74f4",
   "metadata": {},
   "outputs": [],
   "source": [
    "#Drops all flights that arrived early or on time.  We are only interested in delays.\n",
    "\n",
    "#dfReduced2.info()\n",
    "dfReduced2.drop(dfReduced2[dfReduced2['ARR_TIME']-dfReduced2['CRS_ARR_TIME']<=0].index, inplace = True)"
   ]
  },
  {
   "cell_type": "code",
   "execution_count": 11,
   "id": "74c38fa6",
   "metadata": {},
   "outputs": [],
   "source": [
    "#We have times in our data, but need to be converted to date/time objects.\n",
    "import datetime\n",
    "dfScaled2['ARR_TIME']=dfScaled2['ARR_TIME'].astype(int)\n",
    "dfScaled2['ARR_TIME']=dfScaled2['ARR_TIME'].round()\n",
    "dfScaled2['ARR_STRING']=dfScaled2['ARR_TIME'].apply(str)\n",
    "\n",
    "dfScaled2['ARR_STRING']=dfScaled2['ARR_STRING'].str.pad(width=4,side='left',fillchar='0')\n",
    "time=(dfScaled2.assign(newtime=pd.to_datetime(dfScaled2['ARR_STRING'],format='%H%M',errors='coerce')))\n",
    "\n",
    "time['newtime'] = time['newtime'].astype('datetime64')\n",
    "#time['newtime'] = time['newtime'].dt.strftime('%H:%M')\n",
    "\n",
    "\n",
    "###################################################################################################\n",
    "\n",
    "\n",
    "dfScaled2['CRS_ARR_TIME']=dfScaled2['CRS_ARR_TIME'].astype(int)\n",
    "dfScaled2['CRS_ARR_TIME']=dfScaled2['CRS_ARR_TIME'].round()\n",
    "dfScaled2['CRS_ARR_STRING']=dfScaled2['CRS_ARR_TIME'].apply(str)\n",
    "\n",
    "\n",
    "dfScaled2['CRS_ARR_STRING']=dfScaled2['CRS_ARR_STRING'].str.pad(width=4,side='left',fillchar='0')\n",
    "time1=(dfScaled2.assign(CRSnewtime=pd.to_datetime(dfScaled2['CRS_ARR_STRING'],format='%H%M',errors='coerce')))\n",
    "#time['CRSnewtime'] = time['CRSnewtime'].dt.strftime('%H:%M')\n",
    "time1['CRSnewtime'] = time1['CRSnewtime'].astype('datetime64')\n",
    "\n",
    "\n",
    "#Add 'CRS_ARR_TIME' to df\n",
    "time['CRSnewtime']=time1['CRSnewtime']\n",
    "\n",
    "#Kill Varibles we no longer need because we now have properly encoded times\n",
    "del time['CRS_ARR_TIME']\n",
    "del time['ARR_TIME']\n",
    "del time['ARR_STRING']\n",
    "del time['CRS_DEP_TIME']\n",
    "\n",
    "#Create delay time variable\n",
    "time['delayTimeDate'] = (time['newtime']-time['CRSnewtime'])"
   ]
  },
  {
   "cell_type": "code",
   "execution_count": 12,
   "id": "51af2c80",
   "metadata": {},
   "outputs": [],
   "source": [
    "time['LATE_AIRCRAFT_DELAY'] = np.where(time['LATE_AIRCRAFT_DELAY']>0,1,0)\n",
    "time['CARRIER_DELAY'] = np.where(time['CARRIER_DELAY']>0,1,0)\n",
    "time['WEATHER_DELAY'] = np.where(time['WEATHER_DELAY']>0,1,0)\n",
    "time['SECURITY_DELAY'] = np.where(time['SECURITY_DELAY']>0,1,0)\n",
    "time['LATE_AIRCRAFT_DELAY'] = np.where(time['LATE_AIRCRAFT_DELAY']>0,1,0)\n",
    "time['NAS_DELAY'] = np.where(time['NAS_DELAY']>0,1,0)\n",
    "\n",
    "\n",
    "time['SECURITY_DELAY']=time['SECURITY_DELAY'].astype(int)\n"
   ]
  },
  {
   "cell_type": "code",
   "execution_count": 13,
   "id": "f8daee1a",
   "metadata": {},
   "outputs": [],
   "source": [
    "time['LATE_AIRCRAFT_DELAY']= time['LATE_AIRCRAFT_DELAY'].astype('category')\n",
    "time['CARRIER_DELAY']= time['CARRIER_DELAY'].astype('category')\n",
    "time['WEATHER_DELAY']= time['WEATHER_DELAY'].astype('category')\n",
    "time['SECURITY_DELAY']= time['SECURITY_DELAY'].astype('category')\n",
    "time['LATE_AIRCRAFT_DELAY']= time['LATE_AIRCRAFT_DELAY'].astype('category')\n",
    "time['NAS_DELAY']= time['NAS_DELAY'].astype('category')"
   ]
  },
  {
   "cell_type": "markdown",
   "id": "28f7560f",
   "metadata": {},
   "source": [
    "## Final data frames for analysis. "
   ]
  },
  {
   "cell_type": "code",
   "execution_count": 14,
   "id": "50d1eacc",
   "metadata": {},
   "outputs": [
    {
     "name": "stdout",
     "output_type": "stream",
     "text": [
      "<class 'pandas.core.frame.DataFrame'>\n",
      "Int64Index: 45284 entries, 929508 to 6830663\n",
      "Data columns (total 45 columns):\n",
      " #   Column                Non-Null Count  Dtype  \n",
      "---  ------                --------------  -----  \n",
      " 0   CRS_DEP_TIME          45284 non-null  int64  \n",
      " 1   ACTUAL_ELAPSED_TIME   45284 non-null  float64\n",
      " 2   AIR_TIME              45284 non-null  float64\n",
      " 3   DISTANCE              45284 non-null  float64\n",
      " 4   ON_TIME_ARRIVAL       45284 non-null  object \n",
      " 5   Operating Carrier_9E  45284 non-null  uint8  \n",
      " 6   Operating Carrier_AA  45284 non-null  uint8  \n",
      " 7   Operating Carrier_AS  45284 non-null  uint8  \n",
      " 8   Operating Carrier_B6  45284 non-null  uint8  \n",
      " 9   Operating Carrier_DL  45284 non-null  uint8  \n",
      " 10  Operating Carrier_EV  45284 non-null  uint8  \n",
      " 11  Operating Carrier_F9  45284 non-null  uint8  \n",
      " 12  Operating Carrier_G4  45284 non-null  uint8  \n",
      " 13  Operating Carrier_HA  45284 non-null  uint8  \n",
      " 14  Operating Carrier_MQ  45284 non-null  uint8  \n",
      " 15  Operating Carrier_NK  45284 non-null  uint8  \n",
      " 16  Operating Carrier_OH  45284 non-null  uint8  \n",
      " 17  Operating Carrier_OO  45284 non-null  uint8  \n",
      " 18  Operating Carrier_UA  45284 non-null  uint8  \n",
      " 19  Operating Carrier_VX  45284 non-null  uint8  \n",
      " 20  Operating Carrier_WN  45284 non-null  uint8  \n",
      " 21  Operating Carrier_YV  45284 non-null  uint8  \n",
      " 22  Operating Carrier_YX  45284 non-null  uint8  \n",
      " 23  Origin_ATL            45284 non-null  uint8  \n",
      " 24  Origin_DEN            45284 non-null  uint8  \n",
      " 25  Origin_DFW            45284 non-null  uint8  \n",
      " 26  Origin_JFK            45284 non-null  uint8  \n",
      " 27  Origin_LAS            45284 non-null  uint8  \n",
      " 28  Origin_LAX            45284 non-null  uint8  \n",
      " 29  Origin_MCO            45284 non-null  uint8  \n",
      " 30  Origin_ORD            45284 non-null  uint8  \n",
      " 31  Origin_SEA            45284 non-null  uint8  \n",
      " 32  Origin_SFO            45284 non-null  uint8  \n",
      " 33  Month_01              45284 non-null  uint8  \n",
      " 34  Month_02              45284 non-null  uint8  \n",
      " 35  Month_03              45284 non-null  uint8  \n",
      " 36  Month_04              45284 non-null  uint8  \n",
      " 37  Month_05              45284 non-null  uint8  \n",
      " 38  Month_06              45284 non-null  uint8  \n",
      " 39  Month_07              45284 non-null  uint8  \n",
      " 40  Month_08              45284 non-null  uint8  \n",
      " 41  Month_09              45284 non-null  uint8  \n",
      " 42  Month_10              45284 non-null  uint8  \n",
      " 43  Month_11              45284 non-null  uint8  \n",
      " 44  Month_12              45284 non-null  uint8  \n",
      "dtypes: float64(3), int64(1), object(1), uint8(40)\n",
      "memory usage: 4.8+ MB\n",
      "<class 'pandas.core.frame.DataFrame'>\n",
      "Int64Index: 53735 entries, 1877111 to 2446952\n",
      "Data columns (total 52 columns):\n",
      " #   Column                Non-Null Count  Dtype          \n",
      "---  ------                --------------  -----          \n",
      " 0   DEP_DELAY             53735 non-null  float64        \n",
      " 1   ACTUAL_ELAPSED_TIME   53735 non-null  float64        \n",
      " 2   AIR_TIME              53735 non-null  float64        \n",
      " 3   CARRIER_DELAY         53735 non-null  category       \n",
      " 4   WEATHER_DELAY         53735 non-null  category       \n",
      " 5   NAS_DELAY             53735 non-null  category       \n",
      " 6   SECURITY_DELAY        53735 non-null  category       \n",
      " 7   LATE_AIRCRAFT_DELAY   53735 non-null  category       \n",
      " 8   ON_TIME_ARRIVAL       53735 non-null  object         \n",
      " 9   Operating Carrier_9E  53735 non-null  uint8          \n",
      " 10  Operating Carrier_AA  53735 non-null  uint8          \n",
      " 11  Operating Carrier_AS  53735 non-null  uint8          \n",
      " 12  Operating Carrier_B6  53735 non-null  uint8          \n",
      " 13  Operating Carrier_DL  53735 non-null  uint8          \n",
      " 14  Operating Carrier_EV  53735 non-null  uint8          \n",
      " 15  Operating Carrier_F9  53735 non-null  uint8          \n",
      " 16  Operating Carrier_G4  53735 non-null  uint8          \n",
      " 17  Operating Carrier_HA  53735 non-null  uint8          \n",
      " 18  Operating Carrier_MQ  53735 non-null  uint8          \n",
      " 19  Operating Carrier_NK  53735 non-null  uint8          \n",
      " 20  Operating Carrier_OH  53735 non-null  uint8          \n",
      " 21  Operating Carrier_OO  53735 non-null  uint8          \n",
      " 22  Operating Carrier_UA  53735 non-null  uint8          \n",
      " 23  Operating Carrier_VX  53735 non-null  uint8          \n",
      " 24  Operating Carrier_WN  53735 non-null  uint8          \n",
      " 25  Operating Carrier_YV  53735 non-null  uint8          \n",
      " 26  Operating Carrier_YX  53735 non-null  uint8          \n",
      " 27  Origin_ATL            53735 non-null  uint8          \n",
      " 28  Origin_DEN            53735 non-null  uint8          \n",
      " 29  Origin_DFW            53735 non-null  uint8          \n",
      " 30  Origin_JFK            53735 non-null  uint8          \n",
      " 31  Origin_LAS            53735 non-null  uint8          \n",
      " 32  Origin_LAX            53735 non-null  uint8          \n",
      " 33  Origin_MCO            53735 non-null  uint8          \n",
      " 34  Origin_ORD            53735 non-null  uint8          \n",
      " 35  Origin_SEA            53735 non-null  uint8          \n",
      " 36  Origin_SFO            53735 non-null  uint8          \n",
      " 37  Month_01              53735 non-null  uint8          \n",
      " 38  Month_02              53735 non-null  uint8          \n",
      " 39  Month_03              53735 non-null  uint8          \n",
      " 40  Month_04              53735 non-null  uint8          \n",
      " 41  Month_05              53735 non-null  uint8          \n",
      " 42  Month_06              53735 non-null  uint8          \n",
      " 43  Month_07              53735 non-null  uint8          \n",
      " 44  Month_08              53735 non-null  uint8          \n",
      " 45  Month_09              53735 non-null  uint8          \n",
      " 46  Month_10              53735 non-null  uint8          \n",
      " 47  Month_11              53735 non-null  uint8          \n",
      " 48  Month_12              53735 non-null  uint8          \n",
      " 49  newtime               53638 non-null  datetime64[ns] \n",
      " 50  CRSnewtime            53735 non-null  datetime64[ns] \n",
      " 51  delayTimeDate         53638 non-null  timedelta64[ns]\n",
      "dtypes: category(5), datetime64[ns](2), float64(3), object(1), timedelta64[ns](1), uint8(40)\n",
      "memory usage: 5.6+ MB\n"
     ]
    }
   ],
   "source": [
    "#Logistic Regression Data frame\n",
    "dfScaled.info()\n",
    "\n",
    "#Linear Regression Data frame\n",
    "time.info()"
   ]
  },
  {
   "cell_type": "markdown",
   "id": "97ca8a5c",
   "metadata": {},
   "source": [
    "# Data Preperation Part II\n",
    "\n",
    "In this section we will describe in detail each of our variables, both variables that were included in the dataset and varaibles that we derived based on other variables.\n",
    "\n",
    "**Note** All of our varaibles have been scaled.  We will explain these variables as they were originally intended in this section of the analysis.  (ie, we will explain the significance of each of these in their original scale) \n",
    "\n",
    "#### DEP_DELAY\n",
    "This is a float64 variable that contains a floating-point representation of the length of time in minutes that a flight was delayed.  For example 181.0 indicates that a flight left 181 minutes after its CRS (Computer reservation system) departure time.  \n",
    "\n",
    "#### ACTUAL_ELAPSED_TIME\n",
    "This is a float64 variable that contains a floating-point representation of the measure of time in minutes of a flight.  This is gate-to-gate time (meaning the timer on this starts once the airplane leaves departure the gate, and stops when the plane arrives at its destination gate.  Many other variables are captured in this window (wheels-on, wheels-off etc). This variable is used to capture total length.  \n",
    "\n",
    "#### AIR_TIME\n",
    "This is a float64 variable that contains a floating-point representation of the measure of time in minutes of a flight after the flight leaves the ground and measures until it touches down at the destination airport.  This is a useful measure of how long a flight takes minus the activities on the ground.  This variable also helps in determining ground delays.  \n",
    "\n",
    "\n",
    "#### DISTANCE\n",
    "This is a float64 variable that contains a floating-point representation of the distance in miles from the origin to the desination.  This is the distance between airports in miles.  FLights with further distances are associated with longer flight times.  \n",
    "\n",
    "\n",
    "\n",
    "#### CARRIER_DELAY\n",
    "This is a categorical variable that indicates if the delay was due to circumstances within the airline's control (e.g. maintenance or crew problems, aircraft cleaning, baggage loading, fueling, etc.).\n",
    "\n",
    "#### WEATHER_DELAY\n",
    "This is a categorical variable that indicates if the delay was due to inclement weather.\n",
    "\n",
    "#### NAS_DELAY\n",
    "This is a categotial variable that indicates if they delay was due to the national air system.  An exmaple of this would be if NYC's airspace was congested and departing flights were held at their origin to wait until air space was cleared. \n",
    "\n",
    "#### SECURITY DELAY\n",
    "This is a categorical variable that indicates if the delay was due to a security issue.  This could be a departing flight that requires additional screening of passengers or cargo.\n",
    "\n",
    "#### LATE_AIRCRAFT_DELAY\n",
    "This is a categorical variable that indicates if the delay was due to the inbound aircaft arriving late. \n",
    "\n",
    "#### ON_TIME_ARRIVAL\n",
    "This is an indicator variable that is a binary outcome variable.  This variable was derived from ACTUAL_ELAPSED_TIME and AIR_TIME to determine if a flight arrived on time. This variable is used as the outcome variable for the classification task.   \n",
    "\n",
    "\n",
    "#### Operating Carriers\n",
    "Operating carrier has been one-hot encoded.  This is the operating airline of the flight\n",
    "\n",
    "AirTran, Alaska, America West, American, American Eagle, Atlantic Southeast, Comair, Continental, Delta, ExpressJet Airlines, Continental Express, Frontier, JetBlue, Mesa Airlines, Northwest,Northwest Airlink SkyWest, Southwest, United, US Airways.  \n",
    "\n",
    "\n",
    "#### ORIGIN\n",
    "This is a one-hot encoded variable.  This is the origin airport of the flight.\n",
    "Atlanta, Denver, Dallas-Fort Worth, John F Kennedy, Las Vegas, Los Angeles, Orlando, Chicago O'hare, Seattle, San Francisco. \n",
    "\n",
    "#### MONTH\n",
    "This is a one-hot encoded variable.\n",
    "This is a variable that we derived from other variables to condense the date information and investigate seasonal trends.  The months are January-December (01=January,12=December).  We derived this from FLIGHT_DATE\n",
    "The variables \n",
    "\n",
    "\n",
    "#### newtime\n",
    "\n",
    "newtime is a datetime coded object.  This is the arrival time of the flight and is derived from ARR_TIME\n",
    "\n",
    "#### CRSnewtime\n",
    "\n",
    "CRSnew time is a datetime coded object.  This is the CRS schedulded arrival time of the flight and is derived from CRS_ARR_TIME.\n",
    "\n",
    "#### delayTimeDate\n",
    "delayTimeDate is a datetime coded object.  This is the length of the arrival delay.  This variable is derived from the difference between arrival time (newtime) and the schedulded arrival time (CRSnewtime).  This is the variable of interest (outcome) for the regression task. \n",
    "\n",
    "\n",
    "\n",
    "\n"
   ]
  },
  {
   "cell_type": "code",
   "execution_count": 15,
   "id": "e918e761",
   "metadata": {},
   "outputs": [
    {
     "name": "stdout",
     "output_type": "stream",
     "text": [
      "<class 'pandas.core.frame.DataFrame'>\n",
      "Int64Index: 53735 entries, 1877111 to 2446952\n",
      "Data columns (total 52 columns):\n",
      " #   Column                Non-Null Count  Dtype          \n",
      "---  ------                --------------  -----          \n",
      " 0   DEP_DELAY             53735 non-null  float64        \n",
      " 1   ACTUAL_ELAPSED_TIME   53735 non-null  float64        \n",
      " 2   AIR_TIME              53735 non-null  float64        \n",
      " 3   CARRIER_DELAY         53735 non-null  category       \n",
      " 4   WEATHER_DELAY         53735 non-null  category       \n",
      " 5   NAS_DELAY             53735 non-null  category       \n",
      " 6   SECURITY_DELAY        53735 non-null  category       \n",
      " 7   LATE_AIRCRAFT_DELAY   53735 non-null  category       \n",
      " 8   ON_TIME_ARRIVAL       53735 non-null  object         \n",
      " 9   Operating Carrier_9E  53735 non-null  uint8          \n",
      " 10  Operating Carrier_AA  53735 non-null  uint8          \n",
      " 11  Operating Carrier_AS  53735 non-null  uint8          \n",
      " 12  Operating Carrier_B6  53735 non-null  uint8          \n",
      " 13  Operating Carrier_DL  53735 non-null  uint8          \n",
      " 14  Operating Carrier_EV  53735 non-null  uint8          \n",
      " 15  Operating Carrier_F9  53735 non-null  uint8          \n",
      " 16  Operating Carrier_G4  53735 non-null  uint8          \n",
      " 17  Operating Carrier_HA  53735 non-null  uint8          \n",
      " 18  Operating Carrier_MQ  53735 non-null  uint8          \n",
      " 19  Operating Carrier_NK  53735 non-null  uint8          \n",
      " 20  Operating Carrier_OH  53735 non-null  uint8          \n",
      " 21  Operating Carrier_OO  53735 non-null  uint8          \n",
      " 22  Operating Carrier_UA  53735 non-null  uint8          \n",
      " 23  Operating Carrier_VX  53735 non-null  uint8          \n",
      " 24  Operating Carrier_WN  53735 non-null  uint8          \n",
      " 25  Operating Carrier_YV  53735 non-null  uint8          \n",
      " 26  Operating Carrier_YX  53735 non-null  uint8          \n",
      " 27  Origin_ATL            53735 non-null  uint8          \n",
      " 28  Origin_DEN            53735 non-null  uint8          \n",
      " 29  Origin_DFW            53735 non-null  uint8          \n",
      " 30  Origin_JFK            53735 non-null  uint8          \n",
      " 31  Origin_LAS            53735 non-null  uint8          \n",
      " 32  Origin_LAX            53735 non-null  uint8          \n",
      " 33  Origin_MCO            53735 non-null  uint8          \n",
      " 34  Origin_ORD            53735 non-null  uint8          \n",
      " 35  Origin_SEA            53735 non-null  uint8          \n",
      " 36  Origin_SFO            53735 non-null  uint8          \n",
      " 37  Month_01              53735 non-null  uint8          \n",
      " 38  Month_02              53735 non-null  uint8          \n",
      " 39  Month_03              53735 non-null  uint8          \n",
      " 40  Month_04              53735 non-null  uint8          \n",
      " 41  Month_05              53735 non-null  uint8          \n",
      " 42  Month_06              53735 non-null  uint8          \n",
      " 43  Month_07              53735 non-null  uint8          \n",
      " 44  Month_08              53735 non-null  uint8          \n",
      " 45  Month_09              53735 non-null  uint8          \n",
      " 46  Month_10              53735 non-null  uint8          \n",
      " 47  Month_11              53735 non-null  uint8          \n",
      " 48  Month_12              53735 non-null  uint8          \n",
      " 49  newtime               53638 non-null  datetime64[ns] \n",
      " 50  CRSnewtime            53735 non-null  datetime64[ns] \n",
      " 51  delayTimeDate         53638 non-null  timedelta64[ns]\n",
      "dtypes: category(5), datetime64[ns](2), float64(3), object(1), timedelta64[ns](1), uint8(40)\n",
      "memory usage: 5.6+ MB\n",
      "<class 'pandas.core.frame.DataFrame'>\n",
      "Int64Index: 45284 entries, 929508 to 6830663\n",
      "Data columns (total 45 columns):\n",
      " #   Column                Non-Null Count  Dtype  \n",
      "---  ------                --------------  -----  \n",
      " 0   CRS_DEP_TIME          45284 non-null  int64  \n",
      " 1   ACTUAL_ELAPSED_TIME   45284 non-null  float64\n",
      " 2   AIR_TIME              45284 non-null  float64\n",
      " 3   DISTANCE              45284 non-null  float64\n",
      " 4   ON_TIME_ARRIVAL       45284 non-null  object \n",
      " 5   Operating Carrier_9E  45284 non-null  uint8  \n",
      " 6   Operating Carrier_AA  45284 non-null  uint8  \n",
      " 7   Operating Carrier_AS  45284 non-null  uint8  \n",
      " 8   Operating Carrier_B6  45284 non-null  uint8  \n",
      " 9   Operating Carrier_DL  45284 non-null  uint8  \n",
      " 10  Operating Carrier_EV  45284 non-null  uint8  \n",
      " 11  Operating Carrier_F9  45284 non-null  uint8  \n",
      " 12  Operating Carrier_G4  45284 non-null  uint8  \n",
      " 13  Operating Carrier_HA  45284 non-null  uint8  \n",
      " 14  Operating Carrier_MQ  45284 non-null  uint8  \n",
      " 15  Operating Carrier_NK  45284 non-null  uint8  \n",
      " 16  Operating Carrier_OH  45284 non-null  uint8  \n",
      " 17  Operating Carrier_OO  45284 non-null  uint8  \n",
      " 18  Operating Carrier_UA  45284 non-null  uint8  \n",
      " 19  Operating Carrier_VX  45284 non-null  uint8  \n",
      " 20  Operating Carrier_WN  45284 non-null  uint8  \n",
      " 21  Operating Carrier_YV  45284 non-null  uint8  \n",
      " 22  Operating Carrier_YX  45284 non-null  uint8  \n",
      " 23  Origin_ATL            45284 non-null  uint8  \n",
      " 24  Origin_DEN            45284 non-null  uint8  \n",
      " 25  Origin_DFW            45284 non-null  uint8  \n",
      " 26  Origin_JFK            45284 non-null  uint8  \n",
      " 27  Origin_LAS            45284 non-null  uint8  \n",
      " 28  Origin_LAX            45284 non-null  uint8  \n",
      " 29  Origin_MCO            45284 non-null  uint8  \n",
      " 30  Origin_ORD            45284 non-null  uint8  \n",
      " 31  Origin_SEA            45284 non-null  uint8  \n",
      " 32  Origin_SFO            45284 non-null  uint8  \n",
      " 33  Month_01              45284 non-null  uint8  \n",
      " 34  Month_02              45284 non-null  uint8  \n",
      " 35  Month_03              45284 non-null  uint8  \n",
      " 36  Month_04              45284 non-null  uint8  \n",
      " 37  Month_05              45284 non-null  uint8  \n",
      " 38  Month_06              45284 non-null  uint8  \n",
      " 39  Month_07              45284 non-null  uint8  \n",
      " 40  Month_08              45284 non-null  uint8  \n",
      " 41  Month_09              45284 non-null  uint8  \n",
      " 42  Month_10              45284 non-null  uint8  \n",
      " 43  Month_11              45284 non-null  uint8  \n",
      " 44  Month_12              45284 non-null  uint8  \n",
      "dtypes: float64(3), int64(1), object(1), uint8(40)\n",
      "memory usage: 4.8+ MB\n"
     ]
    }
   ],
   "source": [
    "#time df is df for regression\n",
    "time.info()\n",
    "#dfreduced is df for classification\n",
    "dfReduced.info()\n",
    "\n"
   ]
  },
  {
   "cell_type": "markdown",
   "id": "5077ee4d",
   "metadata": {},
   "source": [
    "# Modeling and Evaluation 1\n",
    "\n",
    "\n",
    "#### Regression \n",
    "\n",
    "The following evaluation metrics will be used for the regression task.\n",
    "    -Mean Absolute Error (MAE)\n",
    "    -Root Mean Squared Error (RMSE)\n",
    "    -Mean Absolute Percentage Error (MAPE) \n",
    "    \n",
    "Mean absolute error is being used because it is an intuitive metric that simply looks at the absolute difference between the data and the models preditions.  This metric is a good first pass at evaluating a models performance, its simple and quick.  The mean absolute error howeer, does not indicate under/over performance in the model.  The residuals all contribute proportionally, so larger errors will contribute significantally to the model.  A small MAE is a good indicator of good prediction and a large MAE indicates the model may need more work.  MAE of 0 is ideal, but not really possible. The MAE is farily robust to outliers since it uses the absolute value.  For this model a lower MAE is \"better.\"  This metric is appropriate since we are concerned with the models ability to predict delay times.\n",
    "\n",
    "\n",
    "Root mean squared error is the standard deviation of the residuals (commonly known as prediction errrors).  We use these rediuals to see how far from the line the points are.  RMSE is a good metric to tell us how concentrated the data is around the line of best fit.  The nice and differentiating part of RMSE is that they can be positive or negative as the predicted value under or over the estimates of the actual value unlike the MAE and MAPE which use the absolute value.  Additionally we can use the RMSE as a good measure of the spread of the y values about the predicted y values.  \n",
    "\n",
    "\n",
    "\n",
    "Mean absolute percentage error is being used as the percentage equivalent of MAE.  Similarily to the MAE, MAPE measures how far our model's predictions are off from their corresponding outputs on average.  MAPE is pretty easy to interpret because of its use of percentages.  As a downside, MAPE is undefined for data where we have 0 values.  The MAPE can also grow very large if the values themselves are small, and as a final note MAPE is biased towards predictions that are systematically less than actual values.  We will use MAPE as a more interpretable MAE.    \n",
    "We will interpret the MAPE in terms of percentages,  as an example the MAPE will state, \"our model's predictions are on average xx% off from the actual value.\"  This metric is appropriate since we are concerned with the model's ability to predict delay times, furthermore the addition of percentage will further our ability to interpret the model's performance.  \n",
    "\n",
    "\n",
    "We will evaluate model performance using the paramters for the top performing model.  To accomplisht this we will use 10-fold-CV, CAP predictions between 0 and 100% and then we will evaluate cross-validations results using the three metrics described above.\n",
    "\n",
    "\n"
   ]
  },
  {
   "cell_type": "markdown",
   "id": "6a0cf22d",
   "metadata": {},
   "source": [
    "# Modeling and Evaluation 2\n",
    "\n",
    "#### Classification\n",
    "To split up the data into a training and test data set we used an 80% training data and 20% testing data split.  As specified above we will use 10-fold cross validation as our metric.  We also should specify that we are judging model performance based on an accuracy metric.  We are aiming for at least 80% accuracy in order to consider an algorithm successful.  As a reminder here is the formula we use for accuracy in our confusion matrices: \n",
    "\n",
    "\n",
    "$accuracy = {\\frac{True Positive+True Negative}{True Positive + True Negative +False Positive +False Negative}}$\n",
    "\n",
    "\n",
    "\n",
    "\n",
    "#### Regression\n",
    "\n",
    "For the regression task we will use 10-fold cross validation, specifically we will use repeated holdout using ShuffleSplit.  We will use 10 folds with a 80% training split and with 20% testing data. We feel this is a useful split to best train the model.  We will also used a random seed set to \"45\" to us ethe same test and training split are used each time we cross validation.  Note: We feel this method is most appropriate despite having some time data in our model.  The time data is simply a measure of a delay time (the outcome variable of interest), and is not time series data."
   ]
  },
  {
   "cell_type": "code",
   "execution_count": 16,
   "id": "4da94280",
   "metadata": {},
   "outputs": [],
   "source": [
    "from sklearn.model_selection import ShuffleSplit\n",
    "\n",
    "#This section handles defining the predictor and outcome variables for linear regression\n",
    "\n",
    "#Section blocked is for regression (data preperation) \n",
    "##########################################################################################\n",
    "time = time.dropna()\n",
    "# create x explanatory and y response variables for regression\n",
    "Y_late_arrival = time['delayTimeDate']\n",
    "time_minutes = Y_late_arrival/datetime.timedelta(minutes=1)\n",
    "time['delayTimeDate']=time_minutes\n",
    "Y_late_arrival = time['delayTimeDate']\n",
    "\n",
    "#Delete the response variable and other late arrival data columns from our training dataset\n",
    "X_late_arrival_vars = time.drop('delayTimeDate', axis=1)\n",
    "\n",
    "#Get the labels we want\n",
    "y_lin_reg = Y_late_arrival \n",
    "\n",
    "#inspect data \n",
    "#X_late_arrival_vars.info()\n",
    "##########################################################################################"
   ]
  },
  {
   "cell_type": "code",
   "execution_count": 17,
   "id": "994587b0",
   "metadata": {},
   "outputs": [
    {
     "name": "stdout",
     "output_type": "stream",
     "text": [
      "% Positive class in Train = 35.76\n",
      "% Positive class in Test  = 35.97\n"
     ]
    }
   ],
   "source": [
    "#This seection handles defining the predictor and outcome variables for Logistic regression (Using scaled data)\n",
    "\n",
    "\n",
    "##########################################################################################\n",
    "#This is the section where we begin to split up the data (for classification)\n",
    "#This is where we create the 80% test, 20%train split, 10 fold CV\n",
    "from sklearn.model_selection import train_test_split\n",
    "\n",
    "#Drop outcome variable from x and keep in y\n",
    "X = dfScaled.drop('ON_TIME_ARRIVAL', axis=1)\n",
    "y = dfScaled['ON_TIME_ARRIVAL']\n",
    "\n",
    "\n",
    "#Direct train/test split\n",
    "X_train, X_test, y_train, y_test = train_test_split(\n",
    "    X, y, test_size=0.20, random_state=45\n",
    ")\n",
    "\n",
    "\n",
    "#Examine positive class in train/test split to examine balance between delayed flights and on time.\n",
    "#We are currently about 2/3 on time, and 1/3 delayed.  Meaning we could do pretty well by guessing a flight is on time\n",
    "#This is an issue since we want to know if a flight will be delayed.  Fix is in next section\n",
    "print(f'''% Positive class in Train = {np.round(y_train.value_counts(normalize=True)[1] * 100, 2)}\n",
    "% Positive class in Test  = {np.round(y_test.value_counts(normalize=True)[1] * 100, 2)}''')\n",
    "\n",
    "#also drop classification outcome\n",
    "del X_late_arrival_vars['ON_TIME_ARRIVAL']\n",
    "del X_late_arrival_vars['newtime']\n",
    "del X_late_arrival_vars['CRSnewtime']\n"
   ]
  },
  {
   "cell_type": "code",
   "execution_count": 18,
   "id": "0e3333bb",
   "metadata": {},
   "outputs": [
    {
     "name": "stdout",
     "output_type": "stream",
     "text": [
      "\n",
      "Balance of positive and negative classes (%):\n"
     ]
    },
    {
     "data": {
      "text/plain": [
       "0    50.0\n",
       "1    50.0\n",
       "Name: ON_TIME_ARRIVAL, dtype: float64"
      ]
     },
     "execution_count": 18,
     "metadata": {},
     "output_type": "execute_result"
    }
   ],
   "source": [
    "from imblearn.over_sampling import SMOTE \n",
    "\n",
    "\n",
    "#This section handles rebalancing the data\n",
    "#Use SMOTE to balance the outcome variable\n",
    "sm = SMOTE(random_state=25)\n",
    "\n",
    "X_sm, y_sm = sm.fit_resample(X, y)\n",
    "\n",
    "#We now have a 50/50 split of on time and delayed flights\n",
    "print('\\nBalance of positive and negative classes (%):')\n",
    "y_sm.value_counts(normalize=True) * 100"
   ]
  },
  {
   "cell_type": "code",
   "execution_count": 89,
   "id": "65912e39",
   "metadata": {},
   "outputs": [
    {
     "name": "stdout",
     "output_type": "stream",
     "text": [
      "ShuffleSplit(n_splits=10, random_state=45, test_size=0.2, train_size=0.8)\n"
     ]
    }
   ],
   "source": [
    "#This code block handles the CV (For logistic regression)\n",
    "from sklearn.model_selection import ShuffleSplit\n",
    "\n",
    "#Want to predict and x and y using the balanced data\n",
    "ylogR = y_sm.values # get the labels we want\n",
    "XlogR = X_sm.values # use everything else to predict!\n",
    "\n",
    "#Use CV objec\n",
    "#Do 5 iterations\n",
    "num_cv_iterations = 10\n",
    "num_instances = len(y)\n",
    "#Notice set as random state\n",
    "cv_object_log_reg = ShuffleSplit(n_splits=num_cv_iterations,random_state=45,test_size  = 0.2,train_size=0.8)\n",
    "#Print CV object to ensure everything correct                         \n",
    "print(cv_object_log_reg)\n"
   ]
  },
  {
   "cell_type": "code",
   "execution_count": 90,
   "id": "7583976a",
   "metadata": {},
   "outputs": [
    {
     "name": "stdout",
     "output_type": "stream",
     "text": [
      "ShuffleSplit(n_splits=10, random_state=45, test_size=0.2, train_size=0.8)\n"
     ]
    }
   ],
   "source": [
    "#This code block handles the CV (For linear regression)\n",
    "\n",
    "#Use CV objec\n",
    "#Do 10 iterations\n",
    "num_cv_iterations = 10\n",
    "num_instances = len(y)\n",
    "#Notice set as random state\n",
    "cv_object_lin_reg = ShuffleSplit(n_splits=num_cv_iterations,random_state=45,test_size  = 0.2,train_size=0.8)\n",
    "#Print CV object to ensure everything correct                         \n",
    "print(cv_object_lin_reg)"
   ]
  },
  {
   "cell_type": "markdown",
   "id": "d29b3acc",
   "metadata": {},
   "source": [
    "# Modeling and Evaluation 3\n",
    "\n",
    "This section is where we do the actual modeling for our regression and classification task.  We start by addressing the regression task.\n",
    "\n",
    "1) We only want to consider flights that arrive late, and address some necessary data preperation to furfill this requirement. (The regression task is performed on scaled data)\n",
    "\n",
    "2) We build a custom scorer for our regression tasks that speaks to our given metrics of MSE, RMSE, and MAPE.\n",
    "\n",
    "3) We build a tool for regression model evaluation and outputs the results for each model.\n",
    "\n",
    "4) The modeling process begins with the regression task and then shifts to the classifcation task\n",
    "\n",
    "*Note there are similar summary tables in this section as in modeling and evaluation 4.  The summary tables in this section are designed to be used with the widgets when parameter values change.  The tables change along with the parameters.  \n",
    "*In modeling and evaluation 4, the summary tables are a result of the best estimated model parameters and will not change."
   ]
  },
  {
   "cell_type": "code",
   "execution_count": 21,
   "id": "a1d30de0",
   "metadata": {},
   "outputs": [
    {
     "name": "stdout",
     "output_type": "stream",
     "text": [
      "<class 'pandas.core.frame.DataFrame'>\n",
      "Int64Index: 53638 entries, 1877111 to 2446952\n",
      "Data columns (total 48 columns):\n",
      " #   Column                Non-Null Count  Dtype   \n",
      "---  ------                --------------  -----   \n",
      " 0   DEP_DELAY             53638 non-null  float64 \n",
      " 1   ACTUAL_ELAPSED_TIME   53638 non-null  float64 \n",
      " 2   AIR_TIME              53638 non-null  float64 \n",
      " 3   CARRIER_DELAY         53638 non-null  category\n",
      " 4   WEATHER_DELAY         53638 non-null  category\n",
      " 5   NAS_DELAY             53638 non-null  category\n",
      " 6   SECURITY_DELAY        53638 non-null  category\n",
      " 7   LATE_AIRCRAFT_DELAY   53638 non-null  category\n",
      " 8   Operating Carrier_9E  53638 non-null  uint8   \n",
      " 9   Operating Carrier_AA  53638 non-null  uint8   \n",
      " 10  Operating Carrier_AS  53638 non-null  uint8   \n",
      " 11  Operating Carrier_B6  53638 non-null  uint8   \n",
      " 12  Operating Carrier_DL  53638 non-null  uint8   \n",
      " 13  Operating Carrier_EV  53638 non-null  uint8   \n",
      " 14  Operating Carrier_F9  53638 non-null  uint8   \n",
      " 15  Operating Carrier_G4  53638 non-null  uint8   \n",
      " 16  Operating Carrier_HA  53638 non-null  uint8   \n",
      " 17  Operating Carrier_MQ  53638 non-null  uint8   \n",
      " 18  Operating Carrier_NK  53638 non-null  uint8   \n",
      " 19  Operating Carrier_OH  53638 non-null  uint8   \n",
      " 20  Operating Carrier_OO  53638 non-null  uint8   \n",
      " 21  Operating Carrier_UA  53638 non-null  uint8   \n",
      " 22  Operating Carrier_VX  53638 non-null  uint8   \n",
      " 23  Operating Carrier_WN  53638 non-null  uint8   \n",
      " 24  Operating Carrier_YV  53638 non-null  uint8   \n",
      " 25  Operating Carrier_YX  53638 non-null  uint8   \n",
      " 26  Origin_ATL            53638 non-null  uint8   \n",
      " 27  Origin_DEN            53638 non-null  uint8   \n",
      " 28  Origin_DFW            53638 non-null  uint8   \n",
      " 29  Origin_JFK            53638 non-null  uint8   \n",
      " 30  Origin_LAS            53638 non-null  uint8   \n",
      " 31  Origin_LAX            53638 non-null  uint8   \n",
      " 32  Origin_MCO            53638 non-null  uint8   \n",
      " 33  Origin_ORD            53638 non-null  uint8   \n",
      " 34  Origin_SEA            53638 non-null  uint8   \n",
      " 35  Origin_SFO            53638 non-null  uint8   \n",
      " 36  Month_01              53638 non-null  uint8   \n",
      " 37  Month_02              53638 non-null  uint8   \n",
      " 38  Month_03              53638 non-null  uint8   \n",
      " 39  Month_04              53638 non-null  uint8   \n",
      " 40  Month_05              53638 non-null  uint8   \n",
      " 41  Month_06              53638 non-null  uint8   \n",
      " 42  Month_07              53638 non-null  uint8   \n",
      " 43  Month_08              53638 non-null  uint8   \n",
      " 44  Month_09              53638 non-null  uint8   \n",
      " 45  Month_10              53638 non-null  uint8   \n",
      " 46  Month_11              53638 non-null  uint8   \n",
      " 47  Month_12              53638 non-null  uint8   \n",
      "dtypes: category(5), float64(3), uint8(40)\n",
      "memory usage: 3.9 MB\n"
     ]
    }
   ],
   "source": [
    "#### Data preperation for Regression\n",
    "##### This model only considers flights that arrive late.  We will regress the arrival delay length given a delay type, operating airline, origin airport, and month.  \n",
    "time = time.dropna()\n",
    "# create x explanatory and y response variables for regression\n",
    "Y_late_arrival = time['delayTimeDate']\n",
    "#time_minutes = Y_late_arrival/datetime.timedelta(minutes=1)\n",
    "#time['delayTimeDate']=time_minutes\n",
    "Y_late_arrival = time['delayTimeDate']\n",
    "\n",
    "#Delete the response variable and other graduation rate data columns from our training dataset\n",
    "X_late_arrival_vars = time.drop('delayTimeDate', axis=1)\n",
    "\n",
    "#also drop classification outcome\n",
    "del X_late_arrival_vars['ON_TIME_ARRIVAL']\n",
    "del X_late_arrival_vars['newtime']\n",
    "del X_late_arrival_vars['CRSnewtime']\n",
    "\n",
    "\n",
    "#Get the labels we want\n",
    "y_lin_reg = Y_late_arrival \n",
    "\n",
    "\n",
    "#inspect data \n",
    "X_late_arrival_vars.info()"
   ]
  },
  {
   "cell_type": "markdown",
   "id": "aa821e58",
   "metadata": {},
   "source": [
    "## Custom Scorers for Evaluating Regression Models\n",
    "### All regression models created in this notebook are validated using the following metrics:\n",
    "\n",
    "#### Mean Absolute Error (MAE)\n",
    "\n",
    "#### Root Mean Squared Error (RMSE)\n",
    "\n",
    "#### Mean Absolute Percentage Error (MAPE)"
   ]
  },
  {
   "cell_type": "code",
   "execution_count": 22,
   "id": "82ab5bcd",
   "metadata": {},
   "outputs": [],
   "source": [
    "#Use mean absolute error (MAE) to score the regression models created \n",
    "#(the scale of MAE is identical to the response variable)\n",
    "from sklearn.metrics import mean_absolute_error, make_scorer, mean_squared_error\n",
    "\n",
    "#Function for Root mean squared error\n",
    "#https://stackoverflow.com/questions/17197492/root-mean-square-error-in-python\n",
    "def rmse(y_actual, y_predicted):\n",
    "    return np.sqrt(mean_squared_error(y_actual, y_predicted))\n",
    "\n",
    "#Function for Mean Absolute Percentage Error (MAPE) - Untested\n",
    "#Adapted from - https://stackoverflow.com/questions/42250958/how-to-optimize-mape-code-in-python\n",
    "def mape(y_actual, y_predicted): \n",
    "    mask = y_actual != 0\n",
    "    return (np.fabs(y_actual - y_predicted)/y_actual)[mask].mean() * 100\n",
    "\n",
    "#Create scorers for rmse and mape functions\n",
    "mae_scorer = make_scorer(score_func=mean_absolute_error, greater_is_better=False)\n",
    "rmse_scorer = make_scorer(score_func=rmse, greater_is_better=False)\n",
    "mape_scorer = make_scorer(score_func=mape, greater_is_better=False)\n",
    "\n",
    "#Make scorer array to pass into cross_validate() function for producing mutiple scores for each cv fold.\n",
    "errorScoring = {'MAE':  mae_scorer, \n",
    "                'RMSE': rmse_scorer,\n",
    "                'MAPE': mape_scorer\n",
    "               }"
   ]
  },
  {
   "cell_type": "markdown",
   "id": "5a6bf2a0",
   "metadata": {},
   "source": [
    "## Regression Model Evaluation\n",
    "\n",
    "### All regression models are evaluated using the regression model evaluation function below:\n",
    "\n",
    "#### The following regression evaluation function uses the cross validation object and the custom scorers in the two cells above in combination with sklearn.model_selection's cross_validate function to perform cross validation for regression estimators.\n",
    "\n",
    "#### The cross validation object above uses a random seed to ensure that all regression estimators are tested on the same randomly selected records for each cross validation fold.\n",
    "\n",
    "#### Custom scorers are created using the three chosen mean error scores and passed into cross_validate(), so all three scores are calcualted using a single call to cross_validate().\n",
    "\n",
    "#### All of this functionality is wrapped within the custom EvaluateRegressionEstimator() function below so multiple regression models may be tested using the same test / train cv data and evaluation scores producing a consistent output for each model without the need to re-write the same code over and over."
   ]
  },
  {
   "cell_type": "code",
   "execution_count": 23,
   "id": "1e934eec",
   "metadata": {},
   "outputs": [],
   "source": [
    "from sklearn.model_selection import cross_validate\n",
    "\n",
    "def EvaluateRegressionEstimator(regEstimator, X, y, cv):\n",
    "    \n",
    "    scores = cross_validate(regEstimator, X, y, scoring=errorScoring, cv=cv, return_train_score=True)\n",
    "\n",
    "    #cross val score sign-flips the outputs of MAE\n",
    "    # https://github.com/scikit-learn/scikit-learn/issues/2439\n",
    "    scores['test_MAE'] = scores['test_MAE'] * -1\n",
    "    scores['test_MAPE'] = scores['test_MAPE'] * -1\n",
    "    scores['test_RMSE'] = scores['test_RMSE'] * -1\n",
    "\n",
    "    #print mean MAE for all folds \n",
    "    maeAvg = scores['test_MAE'].mean()\n",
    "    print_str = \"The average MAE for all cv folds is: \\t\\t\\t {maeAvg:.5}\"\n",
    "    print(print_str.format(maeAvg=maeAvg))\n",
    "\n",
    "    #print mean test_MAPE for all folds\n",
    "    scores['test_MAPE'] = scores['test_MAPE']\n",
    "    mape_avg = scores['test_MAPE'].mean()\n",
    "    print_str = \"The average MAE percentage (MAPE) for all cv folds is: \\t {mape_avg:.5}\"\n",
    "    print(print_str.format(mape_avg=mape_avg))\n",
    "\n",
    "    #print mean MAE for all folds \n",
    "    RMSEavg = scores['test_RMSE'].mean()\n",
    "    print_str = \"The average RMSE for all cv folds is: \\t\\t\\t {RMSEavg:.5}\"\n",
    "    print(print_str.format(RMSEavg=RMSEavg))\n",
    "    print('*********************************************************')\n",
    "\n",
    "    print('Cross Validation Fold Mean Error Scores')\n",
    "    scoresResults = pd.DataFrame()\n",
    "    scoresResults['MAE'] = scores['test_MAE']\n",
    "    scoresResults['MAPE'] = scores['test_MAPE']\n",
    "    scoresResults['RMSE'] = scores['test_RMSE']\n",
    "    return scoresResults"
   ]
  },
  {
   "cell_type": "code",
   "execution_count": 43,
   "id": "f7899007",
   "metadata": {},
   "outputs": [],
   "source": [
    "#This section makes a new estimator that can work with girdsearch and cross validation\n",
    "#This section exists to make model comparison easier\n",
    "from sklearn.base import BaseEstimator, RegressorMixin\n",
    "from sklearn.linear_model import LinearRegression\n",
    "\n",
    "class DelayLinearRegression(LinearRegression):\n",
    "\n",
    "    def predict(self, X):\n",
    "        return (super(DelayLinearRegression, self).predict(X))"
   ]
  },
  {
   "cell_type": "markdown",
   "id": "9724410b",
   "metadata": {},
   "source": [
    "# Delay Time Lasso Regression"
   ]
  },
  {
   "cell_type": "code",
   "execution_count": 25,
   "id": "1636d4f9",
   "metadata": {},
   "outputs": [
    {
     "name": "stdout",
     "output_type": "stream",
     "text": [
      "Fitting 10 folds for each of 20 candidates, totalling 200 fits\n"
     ]
    },
    {
     "data": {
      "text/plain": [
       "GridSearchCV(cv=ShuffleSplit(n_splits=10, random_state=45, test_size=0.2, train_size=None),\n",
       "             estimator=Lasso(max_iter=10000, normalize=True, precompute=True,\n",
       "                             random_state=3),\n",
       "             n_jobs=8,\n",
       "             param_grid={'alpha': [0.001, 0.1, 1, 10, 20],\n",
       "                         'selection': ['cyclic', 'random'],\n",
       "                         'warm_start': [True, False]},\n",
       "             scoring=make_scorer(mean_absolute_error, greater_is_better=False),\n",
       "             verbose=1)"
      ]
     },
     "execution_count": 25,
     "metadata": {},
     "output_type": "execute_result"
    }
   ],
   "source": [
    "#Create a regression object and perform a grid search to find the best parameters\n",
    "from sklearn.linear_model import Lasso\n",
    "\n",
    "reg = Lasso(fit_intercept=True, normalize=True,copy_X=True\n",
    "          , max_iter=10000, precompute=True, tol=0.0001, random_state=3)\n",
    "\n",
    "#Test parameters \n",
    "alpha = [0.001, 0.1, 1, 10, 20]\n",
    "selection = ['cyclic','random']\n",
    "warm_start = [True, False]\n",
    "parameters = {'alpha': alpha, 'selection': selection, 'warm_start': warm_start}\n",
    "\n",
    "#Create a grid search object using the parameters above\n",
    "from sklearn.model_selection import GridSearchCV\n",
    "regGridSearch = GridSearchCV(estimator=reg\n",
    "                   , n_jobs=8 # jobs to run in parallel\n",
    "                   , verbose=1 # low verbosity\n",
    "                   , param_grid=parameters\n",
    "                   , cv=cv_object_lin_reg # KFolds = 10\n",
    "                   , scoring=mae_scorer)\n",
    "\n",
    "#Perform hyperparameter search to find the best combination of parameters for our data\n",
    "regGridSearch.fit(X_late_arrival_vars, y_lin_reg)"
   ]
  },
  {
   "cell_type": "code",
   "execution_count": 26,
   "id": "5f210c9f",
   "metadata": {},
   "outputs": [
    {
     "data": {
      "text/plain": [
       "Lasso(alpha=0.001, max_iter=10000, normalize=True, precompute=True,\n",
       "      random_state=3, selection='random', warm_start=True)"
      ]
     },
     "execution_count": 26,
     "metadata": {},
     "output_type": "execute_result"
    }
   ],
   "source": [
    "#Display the best estimator parameters\n",
    "regGridSearch.best_estimator_"
   ]
  },
  {
   "cell_type": "code",
   "execution_count": 51,
   "id": "825bdb4c",
   "metadata": {},
   "outputs": [
    {
     "data": {
      "application/vnd.jupyter.widget-view+json": {
       "model_id": "37aa9ec3feef4fc6a640b7666a1fd402",
       "version_major": 2,
       "version_minor": 0
      },
      "text/plain": [
       "interactive(children=(FloatSlider(value=0.041, description='alpha', max=0.1, min=0.001, step=0.01), Output()),…"
      ]
     },
     "metadata": {},
     "output_type": "display_data"
    },
    {
     "data": {
      "text/plain": [
       "<function __main__.lasso_explor(alpha)>"
      ]
     },
     "execution_count": 51,
     "metadata": {},
     "output_type": "execute_result"
    }
   ],
   "source": [
    "#This section creates a widget for LASSO and allows us to vary the level of alpha\n",
    "from sklearn.linear_model import Lasso\n",
    "from ipywidgets import widgets as wd\n",
    "regEstimatorLasso= Lasso(alpha=0.001, copy_X=True, fit_intercept=True, max_iter=10000,\n",
    "                     normalize=True, positive=False, precompute=True, random_state=3,\n",
    "                     selection='random', tol=0.0001, warm_start=True)\n",
    "def lasso_explor(alpha):\n",
    "    regEstimator = Lasso(alpha=alpha, copy_X=True, fit_intercept=True, max_iter=10000,\n",
    "                     normalize=True, positive=False, precompute=True, random_state=3,\n",
    "                     selection='random', tol=0.0001, warm_start=True)\n",
    "\n",
    "#Evaluate the regression estimator above using our pre-defined cross validation and scoring metrics.\n",
    "    print(EvaluateRegressionEstimator(regEstimator, X_late_arrival_vars, y_lin_reg, cv_object_lin_reg))\n",
    "\n",
    "wd.interact(lasso_explor,alpha=(0.001,0.1,0.01),__manual=True)\n"
   ]
  },
  {
   "cell_type": "markdown",
   "id": "ac7efda6",
   "metadata": {},
   "source": [
    "# Delay Time Ridge Regression"
   ]
  },
  {
   "cell_type": "code",
   "execution_count": 28,
   "id": "55a6f342",
   "metadata": {},
   "outputs": [
    {
     "name": "stdout",
     "output_type": "stream",
     "text": [
      "Fitting 10 folds for each of 36 candidates, totalling 360 fits\n"
     ]
    },
    {
     "data": {
      "text/plain": [
       "GridSearchCV(cv=ShuffleSplit(n_splits=10, random_state=45, test_size=0.2, train_size=None),\n",
       "             estimator=Ridge(max_iter=1000, normalize=True, random_state=3,\n",
       "                             tol=0.0001),\n",
       "             n_jobs=8,\n",
       "             param_grid={'alpha': [0.001, 0.1, 1, 5, 10, 20],\n",
       "                         'solver': ['svd', 'cholesky', 'lsqr', 'sparse_cg',\n",
       "                                    'sag', 'saga']},\n",
       "             scoring=make_scorer(mean_absolute_error, greater_is_better=False),\n",
       "             verbose=1)"
      ]
     },
     "execution_count": 28,
     "metadata": {},
     "output_type": "execute_result"
    }
   ],
   "source": [
    "#Create a regression object and perform a grid search to find the best parameters\n",
    "from sklearn.linear_model import Ridge\n",
    "\n",
    "reg = Ridge(fit_intercept=True, normalize=True,copy_X=True\n",
    "          , max_iter=1000, tol=0.0001, random_state=3)\n",
    "\n",
    "#Test parameters \n",
    "alpha = [0.001, 0.1, 1, 5, 10, 20]\n",
    "solver = [ 'svd', 'cholesky', 'lsqr', 'sparse_cg', 'sag', 'saga']\n",
    "parameters = {'alpha': alpha, 'solver': solver}\n",
    "\n",
    "#Create a grid search object using the parameters above\n",
    "from sklearn.model_selection import GridSearchCV\n",
    "regGridSearch = GridSearchCV(estimator=reg\n",
    "                   , n_jobs=8 # jobs to run in parallel\n",
    "                   , verbose=1 # low verbosity\n",
    "                   , param_grid=parameters\n",
    "                   , cv=cv_object_lin_reg # KFolds = 10\n",
    "                   , scoring=mae_scorer)\n",
    "\n",
    "#Perform hyperparameter search to find the best combination of parameters for our data\n",
    "regGridSearch.fit(X_late_arrival_vars, y_lin_reg)\n"
   ]
  },
  {
   "cell_type": "code",
   "execution_count": 29,
   "id": "820b0786",
   "metadata": {},
   "outputs": [
    {
     "data": {
      "text/plain": [
       "Ridge(alpha=0.1, max_iter=1000, normalize=True, random_state=3, solver='saga',\n",
       "      tol=0.0001)"
      ]
     },
     "execution_count": 29,
     "metadata": {},
     "output_type": "execute_result"
    }
   ],
   "source": [
    "#Display the best estimator parameters\n",
    "regGridSearch.best_estimator_"
   ]
  },
  {
   "cell_type": "code",
   "execution_count": 54,
   "id": "296af307",
   "metadata": {},
   "outputs": [
    {
     "data": {
      "application/vnd.jupyter.widget-view+json": {
       "model_id": "a1ee65e05e4e4c63afd21e6401c7124e",
       "version_major": 2,
       "version_minor": 0
      },
      "text/plain": [
       "interactive(children=(Dropdown(description='solver', options=('auto', 'svd', 'cholesky', 'lsqr', 'sparse_cg', …"
      ]
     },
     "metadata": {},
     "output_type": "display_data"
    },
    {
     "data": {
      "text/plain": [
       "<function __main__.ridge_explor(solver)>"
      ]
     },
     "execution_count": 54,
     "metadata": {},
     "output_type": "execute_result"
    }
   ],
   "source": [
    "#Ridge Regression\n",
    "#Create a regression estimator with best parameters for cross validation\n",
    "#This section allows us to explore model parameters (solver in the case of ridge)\n",
    "regEstimator = regGridSearch.best_estimator_\n",
    "regEstimatorRidge =Ridge(fit_intercept=True, normalize=True,copy_X=True\n",
    "          , max_iter=1000, tol=0.0001, random_state=3,solver='saga')\n",
    "\n",
    "def ridge_explor(solver):\n",
    "    regEstimator = Ridge(fit_intercept=True, normalize=True,copy_X=True\n",
    "          , max_iter=1000, tol=0.0001, random_state=3,solver=solver)\n",
    "\n",
    "#Evaluate the regression estimator above using our pre-defined cross validation and scoring metrics.\n",
    "    print(EvaluateRegressionEstimator(regEstimator, X_late_arrival_vars,y_lin_reg , cv_object_lin_reg))\n",
    "\n",
    "wd.interact(ridge_explor,solver=['auto', 'svd', 'cholesky', 'lsqr', 'sparse_cg', 'sag', 'saga'],__manual=True)"
   ]
  },
  {
   "cell_type": "markdown",
   "id": "ddc6f189",
   "metadata": {},
   "source": [
    "# Delay Time Elastic Net Regression"
   ]
  },
  {
   "cell_type": "code",
   "execution_count": 31,
   "id": "5541afac",
   "metadata": {},
   "outputs": [
    {
     "name": "stdout",
     "output_type": "stream",
     "text": [
      "Fitting 10 folds for each of 96 candidates, totalling 960 fits\n"
     ]
    },
    {
     "data": {
      "text/plain": [
       "GridSearchCV(cv=ShuffleSplit(n_splits=10, random_state=45, test_size=0.2, train_size=None),\n",
       "             estimator=ElasticNet(max_iter=10000, normalize=True,\n",
       "                                  precompute=True, random_state=3),\n",
       "             n_jobs=8,\n",
       "             param_grid={'alpha': [0.001, 0.1, 1, 10],\n",
       "                         'l1_ratio': [0.001, 0.01, 0.1, 0.5, 0.75, 1],\n",
       "                         'selection': ['cyclic', 'random'],\n",
       "                         'warm_start': [True, False]},\n",
       "             scoring=make_scorer(mean_absolute_error, greater_is_better=False),\n",
       "             verbose=1)"
      ]
     },
     "execution_count": 31,
     "metadata": {},
     "output_type": "execute_result"
    }
   ],
   "source": [
    "#Create a regression object and perform a grid search to find the best parameters\n",
    "from sklearn.linear_model import ElasticNet\n",
    "\n",
    "reg = ElasticNet(fit_intercept=True, normalize=True, precompute=True, copy_X=True\n",
    "          , max_iter=10000, tol=0.0001, random_state=3)\n",
    " \n",
    "#Test parameters\n",
    "l1_ratio = [0.001, 0.01, 0.1, 0.5, 0.75, 1]\n",
    "alpha = [0.001, 0.1, 1, 10]\n",
    "selection = ['cyclic','random']\n",
    "warm_start = [True, False]\n",
    "parameters = {'l1_ratio': l1_ratio, 'alpha': alpha, 'selection': selection, 'warm_start': warm_start}\n",
    "\n",
    "#Create a grid search object using the parameters above\n",
    "from sklearn.model_selection import GridSearchCV\n",
    "regGridSearch = GridSearchCV(estimator=reg\n",
    "                   , n_jobs=8 # jobs to run in parallel\n",
    "                   , verbose=1 # low verbosity\n",
    "                   , param_grid=parameters\n",
    "                   , cv=cv_object_lin_reg # KFolds = 10\n",
    "                   , scoring=mae_scorer)\n",
    "\n",
    "#Perform hyperparameter search to find the best combination of parameters for our data\n",
    "regGridSearch.fit(X_late_arrival_vars, y_lin_reg)"
   ]
  },
  {
   "cell_type": "code",
   "execution_count": 32,
   "id": "a6ce394e",
   "metadata": {},
   "outputs": [
    {
     "data": {
      "text/plain": [
       "ElasticNet(alpha=0.001, l1_ratio=1, max_iter=10000, normalize=True,\n",
       "           precompute=True, random_state=3, selection='random',\n",
       "           warm_start=True)"
      ]
     },
     "execution_count": 32,
     "metadata": {},
     "output_type": "execute_result"
    }
   ],
   "source": [
    "#Display the best estimator parameters\n",
    "regGridSearch.best_estimator_"
   ]
  },
  {
   "cell_type": "code",
   "execution_count": 56,
   "id": "86f4b838",
   "metadata": {},
   "outputs": [
    {
     "data": {
      "application/vnd.jupyter.widget-view+json": {
       "model_id": "fda6e61be7a341c6a521a9182a7c596a",
       "version_major": 2,
       "version_minor": 0
      },
      "text/plain": [
       "interactive(children=(FloatSlider(value=0.25, description='alpha', max=0.5, min=0.01, step=0.01), Output()), _…"
      ]
     },
     "metadata": {},
     "output_type": "display_data"
    },
    {
     "data": {
      "text/plain": [
       "<function __main__.elastic_explor(alpha)>"
      ]
     },
     "execution_count": 56,
     "metadata": {},
     "output_type": "execute_result"
    }
   ],
   "source": [
    "#Create a regression estimator with best parameters for cross validation\n",
    "#This section allows us to explore model parameters (Alpha) to vary the level and see how it impacts the model\n",
    "regEstimator = regGridSearch.best_estimator_\n",
    "\n",
    "regEstimatorElasticNet=ElasticNet(0.001,fit_intercept=True, normalize=True, precompute=True, copy_X=True\n",
    "          , max_iter=10000, tol=0.0001, random_state=45)\n",
    "\n",
    "def elastic_explor(alpha):\n",
    "    regEstimator = ElasticNet(alpha,fit_intercept=True, normalize=True, precompute=True, copy_X=True\n",
    "          , max_iter=10000, tol=0.0001, random_state=45)\n",
    "\n",
    "#Evaluate the regression estimator above using our pre-defined cross validation and scoring metrics.\n",
    "    print(EvaluateRegressionEstimator(regEstimator, X_late_arrival_vars, y_lin_reg, cv_object_lin_reg))\n",
    "\n",
    "wd.interact(elastic_explor,alpha=(0.01,0.5,0.01),__manual=True)"
   ]
  },
  {
   "cell_type": "markdown",
   "id": "86d3f00f",
   "metadata": {},
   "source": [
    "## On Time Arrival Classification\n",
    "\n",
    "This section addresses the classification task for the project.  We explore 3 different classification models in this section.  \n",
    "\n",
    "KNN\n",
    "\n",
    "Random Forest\n",
    "\n",
    "Gaussian Naive Bayes\n",
    "\n",
    "(In this order)\n",
    "\n",
    "The models shown below can all have their parameters tuned to find the best fit for the data.  The best fit for each of these models will be used in the following section to show results and illustrate the results and why they may be interesting to a model user."
   ]
  },
  {
   "cell_type": "markdown",
   "id": "d3b3febd",
   "metadata": {},
   "source": [
    "## Classification Model #1: KNN"
   ]
  },
  {
   "cell_type": "code",
   "execution_count": 96,
   "id": "f5db0458",
   "metadata": {},
   "outputs": [],
   "source": [
    "for train_indices, test_indices in cv_object_log_reg.split(X_,y_):\n",
    "    X_train = X_[train_indices]\n",
    "    X_test = X_[test_indices] \n",
    "    y_train = y_[train_indices]\n",
    "    y_test = y_[test_indices]\n",
    "    \n",
    "knn_array = []\n",
    "rf_array = []\n",
    "gnb_array = []    \n"
   ]
  },
  {
   "cell_type": "code",
   "execution_count": 121,
   "id": "e42a7c87",
   "metadata": {},
   "outputs": [
    {
     "data": {
      "application/vnd.jupyter.widget-view+json": {
       "model_id": "f9ee3791f5bb4942ad8668b4eea8e44c",
       "version_major": 2,
       "version_minor": 0
      },
      "text/plain": [
       "interactive(children=(IntSlider(value=10, description='k', max=20, min=1), Dropdown(description='weights', opt…"
      ]
     },
     "metadata": {},
     "output_type": "display_data"
    },
    {
     "data": {
      "text/plain": [
       "<function __main__.knn_explor(k, weights, metric)>"
      ]
     },
     "execution_count": 121,
     "metadata": {},
     "output_type": "execute_result"
    }
   ],
   "source": [
    "def knn_explor(k, weights, metric):\n",
    "    knn = KNeighborsClassifier(n_neighbors=k, weights=weights, metric=metric)\n",
    "    knn.fit(X_train,y_train)\n",
    "    y_hat = knn.predict(X_test)\n",
    "\n",
    "    acc = mt.accuracy_score(y_test,y_hat)\n",
    "    prc = mt.precision_score(y_test,y_hat, pos_label='0')\n",
    "    conf = mt.confusion_matrix(y_test,y_hat)\n",
    "    knn_array.append({'Accuracy': acc, 'Precision': prc, 'n_neighbors': k, 'weights': weights, 'metric': metric})\n",
    "\n",
    "    # print the accuracy and confusion matrix \n",
    "\n",
    "    plt.figure(figsize=(9,9))\n",
    "    sns.heatmap(conf, annot=True, fmt=\".3f\", linewidths=.5, square = True, cmap = 'Blues_r');\n",
    "    plt.ylabel('Actual label');\n",
    "    plt.xlabel('Predicted label');\n",
    "    all_sample_title = 'Accuracy Score: {0}\\n Precision Score: {1}'.format(acc,prc)\n",
    "    plt.title(all_sample_title, size = 15);\n",
    "\n",
    "wd.interact(knn_explor,k=(1, 20, 1),weights=['uniform', 'distance'],metric=['euclidean', 'manhattan', 'chebyshev', 'minkowski'],__manual=True)"
   ]
  },
  {
   "cell_type": "markdown",
   "id": "ad95a165",
   "metadata": {},
   "source": [
    "## Classification Model #2: Random Forest Classifier"
   ]
  },
  {
   "cell_type": "code",
   "execution_count": 99,
   "id": "5bb12a4a",
   "metadata": {},
   "outputs": [
    {
     "data": {
      "application/vnd.jupyter.widget-view+json": {
       "model_id": "daa0d0467820427584ac71ccadd5a394",
       "version_major": 2,
       "version_minor": 0
      },
      "text/plain": [
       "interactive(children=(IntSlider(value=96, description='max_depth', max=200, min=1, step=5), IntSlider(value=22…"
      ]
     },
     "metadata": {},
     "output_type": "display_data"
    },
    {
     "name": "stdout",
     "output_type": "stream",
     "text": [
      "CPU times: user 17.8 s, sys: 740 ms, total: 18.5 s\n",
      "Wall time: 3.3 s\n"
     ]
    },
    {
     "data": {
      "text/plain": [
       "<function __main__.RF_explor(max_depth, n_estimators)>"
      ]
     },
     "execution_count": 99,
     "metadata": {},
     "output_type": "execute_result"
    }
   ],
   "source": [
    "%%time\n",
    "from sklearn.ensemble import RandomForestClassifier\n",
    "\n",
    "def RF_explor(max_depth, n_estimators):\n",
    "    clf = RandomForestClassifier(max_depth=max_depth, n_estimators=n_estimators, n_jobs=-1, oob_score=True, random_state=45)\n",
    "    clf.fit(X_train,y_train)\n",
    "    y_hat = clf.predict(X_test)\n",
    "\n",
    "    acc = mt.accuracy_score(y_test,y_hat)\n",
    "    prc = mt.precision_score(y_test,y_hat, pos_label='0')\n",
    "    conf = mt.confusion_matrix(y_test,y_hat)\n",
    "    rf_array.append({'Accuracy': acc, 'Precision': prc, 'max_depth': max_depth, 'n_estimators': n_estimators})\n",
    "\n",
    "    # print the accuracy and confusion matrix \n",
    "\n",
    "    plt.figure(figsize=(9,9))\n",
    "    sns.heatmap(conf, annot=True, fmt=\".3f\", linewidths=.5, square = True, cmap = 'Blues_r');\n",
    "    plt.ylabel('Actual label');\n",
    "    plt.xlabel('Predicted label');\n",
    "    all_sample_title = 'Accuracy Score: {0}\\n Precision Score: {1}'.format(acc,prc)\n",
    "    plt.title(all_sample_title, size = 15);\n",
    "\n",
    "wd.interact(RF_explor,max_depth=(1, 200, 5),n_estimators=(1,500,25),manual=True)"
   ]
  },
  {
   "cell_type": "code",
   "execution_count": 47,
   "id": "aa3fd527",
   "metadata": {},
   "outputs": [
    {
     "name": "stdout",
     "output_type": "stream",
     "text": [
      "Stump 0.5461454028746103\n",
      "Tree 0.7069410688050696\n",
      "Random Trees 0.7375390235743119\n",
      "Extra Random Trees 0.7179845931825838\n",
      "Boosted Tree 0.6884191625693135\n",
      "CPU times: user 1min 56s, sys: 1.79 s, total: 1min 58s\n",
      "Wall time: 1min 58s\n"
     ]
    }
   ],
   "source": [
    "%%time\n",
    "from sklearn.tree import DecisionTreeClassifier\n",
    "from sklearn.ensemble import RandomForestClassifier\n",
    "from sklearn.ensemble import ExtraTreesClassifier\n",
    "from sklearn.ensemble import GradientBoostingClassifier\n",
    "\n",
    "from sklearn.model_selection import cross_val_score\n",
    "\n",
    "num_estimators = 50\n",
    "# lets train some trees\n",
    "clf_array = [\n",
    "    ('Stump',              DecisionTreeClassifier(max_depth=1, min_samples_leaf=1)),\n",
    "    ('Tree',               DecisionTreeClassifier()),\n",
    "    ('Random Trees',       RandomForestClassifier(max_depth=50, n_estimators=num_estimators)),\n",
    "    ('Extra Random Trees', ExtraTreesClassifier(n_estimators=num_estimators,min_samples_split=2)),\n",
    "    ('Boosted Tree',       GradientBoostingClassifier(n_estimators=num_estimators)), #takes a long time\n",
    "    ]\n",
    "\n",
    "for clf in clf_array:\n",
    "    acc = cross_val_score(clf[1],X,y,cv=10)\n",
    "    print (clf[0], acc.mean())"
   ]
  },
  {
   "cell_type": "markdown",
   "id": "0ec836d6",
   "metadata": {},
   "source": [
    "## Classification Model #3: Gaussian Naive Bayes"
   ]
  },
  {
   "cell_type": "code",
   "execution_count": 114,
   "id": "3e0c9b08",
   "metadata": {},
   "outputs": [
    {
     "data": {
      "application/vnd.jupyter.widget-view+json": {
       "model_id": "7559ab73217f417298413c63d0b36682",
       "version_major": 2,
       "version_minor": 0
      },
      "text/plain": [
       "interactive(children=(Output(),), _dom_classes=('widget-interact',))"
      ]
     },
     "metadata": {},
     "output_type": "display_data"
    },
    {
     "data": {
      "text/plain": [
       "<function __main__.gnb_explor()>"
      ]
     },
     "execution_count": 114,
     "metadata": {},
     "output_type": "execute_result"
    }
   ],
   "source": [
    "#Important to note here that the GaussianNB \n",
    "\n",
    "from sklearn.naive_bayes import GaussianNB\n",
    "def gnb_explor():\n",
    "    clf3 = GaussianNB()\n",
    "    clf.fit(X_train,y_train)\n",
    "    y_hat = clf.predict(X_test)\n",
    "\n",
    "    acc = mt.accuracy_score(y_test,y_hat)\n",
    "    prc = mt.precision_score(y_test,y_hat, pos_label='0')\n",
    "    conf = mt.confusion_matrix(y_test,y_hat)\n",
    "    gnb_array.append({'Accuracy': acc, 'Precision': prc})\n",
    "\n",
    "    # print the accuracy and confusion matrix \n",
    "\n",
    "    plt.figure(figsize=(9,9))\n",
    "    sns.heatmap(conf, annot=True, fmt=\".3f\", linewidths=.5, square = True, cmap = 'Blues_r');\n",
    "    plt.ylabel('Actual label');\n",
    "    plt.xlabel('Predicted label');\n",
    "    all_sample_title = 'Accuracy Score: {0}\\n Precision Score: {1}'.format(acc,prc)\n",
    "    plt.title(all_sample_title, size = 15);\n",
    "\n",
    "wd.interact(gnb_explor,manual=False)"
   ]
  },
  {
   "cell_type": "markdown",
   "id": "d5ed92d2",
   "metadata": {},
   "source": [
    "# Modeling and Evaluation 4\n",
    "\n",
    "Analyze the results using your chosen method of evaluation. Use visualizations of the results to bolster the analysis. Explain any visuals and analyze why they are interesting to someone that might use this model.\n",
    "\n",
    "\n",
    "In this section we will analyze the results of our chosen method of evaluation.  We will look at the output from the various regression models and assess model performance based on our metrics of MAE,MAPE,RMSE, and take a look at some feature importance.  \n",
    "\n",
    "We will then look at the output from the classification models and assess model performance based on our metric of accuracy (this will be the primary driver of our determination of a \"good\" model )  we will look at some summary statistics on the classifers and also include some plots of each model. \n",
    "\n",
    "The tables below tell the regression story.  They use 10-fold cross validation to show that results are not due to random chance and can be reproduced at anytime.  "
   ]
  },
  {
   "cell_type": "markdown",
   "id": "f68d4a11",
   "metadata": {},
   "source": [
    "### Regression Evaluation"
   ]
  },
  {
   "cell_type": "code",
   "execution_count": 53,
   "id": "c97bb0e0",
   "metadata": {},
   "outputs": [
    {
     "name": "stdout",
     "output_type": "stream",
     "text": [
      "The average MAE for all cv folds is: \t\t\t 38.355\n",
      "The average MAE percentage (MAPE) for all cv folds is: \t 437.78\n",
      "The average RMSE for all cv folds is: \t\t\t 151.15\n",
      "*********************************************************\n",
      "Cross Validation Fold Mean Error Scores\n",
      "         MAE        MAPE        RMSE\n",
      "0  39.478249  444.498688  157.725305\n",
      "1  37.633094  439.518669  146.010708\n",
      "2  39.586081  427.355975  159.540299\n",
      "3  39.458794  418.994904  158.643699\n",
      "4  37.747676  436.624857  148.332694\n",
      "5  37.657734  436.541908  147.753607\n",
      "6  37.602869  446.913235  145.943462\n",
      "7  38.215898  445.896857  149.796635\n",
      "8  37.952763  450.478278  147.885104\n",
      "9  38.213190  431.002400  149.844469\n"
     ]
    }
   ],
   "source": [
    "#Each of these models will be evaluted by setting the parameters defined as \"best fit\" in the modeling section.\n",
    "#We will look at the CV score for average MAE, MAPE, and RMSE\n",
    "\n",
    "#The first model we will look at is LASSO\n",
    "\n",
    "print(EvaluateRegressionEstimator(regEstimatorLasso, X_late_arrival_vars, y_lin_reg, cv_object_lin_reg))\n"
   ]
  },
  {
   "cell_type": "code",
   "execution_count": 55,
   "id": "7ee4b6ec",
   "metadata": {},
   "outputs": [
    {
     "name": "stdout",
     "output_type": "stream",
     "text": [
      "The average MAE for all cv folds is: \t\t\t 43.409\n",
      "The average MAE percentage (MAPE) for all cv folds is: \t 497.91\n",
      "The average RMSE for all cv folds is: \t\t\t 152.22\n",
      "*********************************************************\n",
      "Cross Validation Fold Mean Error Scores\n",
      "         MAE        MAPE        RMSE\n",
      "0  44.760143  507.486207  158.759491\n",
      "1  42.776887  496.389990  147.403607\n",
      "2  44.666396  488.735690  160.379828\n",
      "3  44.416844  481.203005  159.309413\n",
      "4  42.798649  499.090009  149.506801\n",
      "5  42.650485  495.815496  148.769500\n",
      "6  42.673156  506.701408  147.174809\n",
      "7  43.331239  504.516115  150.955088\n",
      "8  42.877010  509.872364  148.930683\n",
      "9  43.134917  489.279543  151.001720\n"
     ]
    }
   ],
   "source": [
    "#The second model we will look at is RIDGE\n",
    "\n",
    "print(EvaluateRegressionEstimator(regEstimatorRidge, X_late_arrival_vars, y_lin_reg, cv_object_lin_reg))\n"
   ]
  },
  {
   "cell_type": "code",
   "execution_count": 57,
   "id": "0501defb",
   "metadata": {},
   "outputs": [
    {
     "name": "stdout",
     "output_type": "stream",
     "text": [
      "The average MAE for all cv folds is: \t\t\t 50.852\n",
      "The average MAE percentage (MAPE) for all cv folds is: \t 620.13\n",
      "The average RMSE for all cv folds is: \t\t\t 154.62\n",
      "*********************************************************\n",
      "Cross Validation Fold Mean Error Scores\n",
      "         MAE        MAPE        RMSE\n",
      "0  52.447870  634.844313  161.122740\n",
      "1  50.128703  612.940693  150.222443\n",
      "2  52.141066  613.123420  162.470730\n",
      "3  51.873468  607.422203  161.198204\n",
      "4  50.183998  623.647683  151.982334\n",
      "5  50.190391  616.639511  151.135937\n",
      "6  49.988090  628.799630  149.775352\n",
      "7  50.811107  623.664395  153.444698\n",
      "8  50.255270  632.020801  151.258360\n",
      "9  50.502290  608.173277  153.552364\n"
     ]
    }
   ],
   "source": [
    "#The third regression model is Elastic net\n",
    "\n",
    "print(EvaluateRegressionEstimator(regEstimatorElasticNet, X_late_arrival_vars, y_lin_reg, cv_object_lin_reg))\n"
   ]
  },
  {
   "cell_type": "markdown",
   "id": "faa16d2a",
   "metadata": {},
   "source": [
    "Based on our modeling and given metrics, the top performing model uses LASSO regression and has a mean absolute error of 38.55 during cross validation.  \n",
    "\n",
    "Thanks to cross validation we can average our results and see that accross the board LASSO and its mean absolute error is the lowest and would be the model of choice to recommend to an outside user.  \n",
    "\n",
    "This is also interesting that LASSO has the best performance (according to our metric of performance) since LASSO uses skrinkage where data values are shrunk towards a central point, like the mean.  Although LASSO likes sparse models, the model based on our metrics seems to be the best fit."
   ]
  },
  {
   "cell_type": "markdown",
   "id": "81a36f3b",
   "metadata": {},
   "source": [
    "### Classification Evaluation"
   ]
  },
  {
   "cell_type": "markdown",
   "id": "3c6ebae7",
   "metadata": {},
   "source": [
    "#### Each of these models will be evaluted by examining the modeling done in modeling and evaluation 3.\n",
    "\n",
    "#### We will assess the models as a whole based on accuracy, but we will also look at precision and recall\n",
    "\n",
    "#### The first model we will look at is KNN, we will first add in some plotting functionality"
   ]
  },
  {
   "cell_type": "code",
   "execution_count": 78,
   "id": "24cd775b",
   "metadata": {},
   "outputs": [],
   "source": [
    "#Analyze results\n",
    "def per_class_accuracy(ytrue,yhat):\n",
    "    conf = mt.confusion_matrix(ytrue,yhat)\n",
    "    norm_conf = conf.astype('float') / conf.sum(axis=1)[:, np.newaxis]\n",
    "    return np.diag(norm_conf)\n",
    "\n",
    "def plot_class_acc(ytrue,yhat, title=''):\n",
    "    acc_list = per_class_accuracy(ytrue,yhat)\n",
    "    plt.bar(range(len(acc_list)), acc_list)\n",
    "    plt.xlabel('Class value')\n",
    "    plt.ylabel('Accuracy within class')\n",
    "    plt.title(title+\", Total Acc=%.1f\"%(100*mt.accuracy_score(ytrue,yhat)))\n",
    "    plt.grid()\n",
    "    plt.ylim([0,1])\n",
    "    plt.show()\n",
    "    "
   ]
  },
  {
   "cell_type": "code",
   "execution_count": 79,
   "id": "5bd3a786",
   "metadata": {},
   "outputs": [
    {
     "name": "stdout",
     "output_type": "stream",
     "text": [
      "KNN accuracy 0.6228157677490369\n",
      "              precision    recall  f1-score   support\n",
      "\n",
      "           0       0.60      0.71      0.65     29072\n",
      "           1       0.65      0.53      0.59     29072\n",
      "\n",
      "    accuracy                           0.62     58144\n",
      "   macro avg       0.63      0.62      0.62     58144\n",
      "weighted avg       0.63      0.62      0.62     58144\n",
      "\n"
     ]
    },
    {
     "data": {
      "image/png": "[encoded data removed]",
      "text/plain": [
       "<Figure size 432x288 with 1 Axes>"
      ]
     },
     "metadata": {
      "needs_background": "light"
     },
     "output_type": "display_data"
    }
   ],
   "source": [
    "from sklearn.metrics import classification_report\n",
    "# create variables we are more familiar with\n",
    "X = XlogR\n",
    "y = ylogR.astype('int32')\n",
    "yhat = np.zeros(y.shape).astype('int32') # we will fill this with predictions\n",
    "\n",
    "# get a handle to the classifier object, which defines the type\n",
    "clf = KNeighborsClassifier(n_neighbors=3)\n",
    "\n",
    "\n",
    "# now iterate through and get predictions, saved to the correct row in yhat\n",
    "for train, test in cv_object_log_reg.split(X,y):\n",
    "    clf.fit(X[train],y[train])\n",
    "    yhat[test] = clf.predict(X[test])\n",
    "\n",
    "#Generate report for KNN\n",
    "print(classification_report(y, yhat))\n",
    "\n",
    "#Build up accuracy within class plot\n",
    "total_accuracy = mt.accuracy_score(y, yhat)\n",
    "print ('KNN accuracy', total_accuracy)\n",
    "plot_class_acc(y,yhat,title=\"KNN\")"
   ]
  },
  {
   "cell_type": "markdown",
   "id": "8b1b2bbe",
   "metadata": {},
   "source": [
    "### Classification Model #2: Random Forest"
   ]
  },
  {
   "cell_type": "code",
   "execution_count": 101,
   "id": "879fa241",
   "metadata": {},
   "outputs": [
    {
     "name": "stdout",
     "output_type": "stream",
     "text": [
      "              precision    recall  f1-score   support\n",
      "\n",
      "           0       0.72      0.73      0.72     29072\n",
      "           1       0.72      0.72      0.72     29072\n",
      "\n",
      "    accuracy                           0.72     58144\n",
      "   macro avg       0.72      0.72      0.72     58144\n",
      "weighted avg       0.72      0.72      0.72     58144\n",
      "\n",
      "Accuracy 0.7234280407264722\n"
     ]
    },
    {
     "data": {
      "image/png": "[encoded data removed]",
      "text/plain": [
       "<Figure size 432x288 with 1 Axes>"
      ]
     },
     "metadata": {
      "needs_background": "light"
     },
     "output_type": "display_data"
    },
    {
     "name": "stdout",
     "output_type": "stream",
     "text": [
      "RandomForestClassifier(max_depth=50, n_estimators=150, n_jobs=-1,\n",
      "                       oob_score=True, random_state=45)\n"
     ]
    },
    {
     "data": {
      "image/png": "[encoded data removed]",
      "text/plain": [
       "<Figure size 432x288 with 1 Axes>"
      ]
     },
     "metadata": {
      "needs_background": "light"
     },
     "output_type": "display_data"
    },
    {
     "name": "stdout",
     "output_type": "stream",
     "text": [
      "Generalization score estimate from training data 0.7482317531978931\n",
      "CPU times: user 3min 18s, sys: 5.71 s, total: 3min 23s\n",
      "Wall time: 30.6 s\n"
     ]
    }
   ],
   "source": [
    "%%time\n",
    "from sklearn.ensemble import RandomForestClassifier\n",
    "\n",
    "#Build up RF classifier\n",
    "clf = RandomForestClassifier(max_depth=50, n_estimators=150, n_jobs=-1, oob_score=True, random_state=45)\n",
    "\n",
    "# now iterate through and get predictions, saved to the correct row in yhat\n",
    "for train, test in cv_object_log_reg.split(X,y):\n",
    "    clf.fit(X[train],y[train])\n",
    "    yhat[test] = clf.predict(X[test])\n",
    "\n",
    "#Generate classification report    \n",
    "print(classification_report(y, yhat))    \n",
    "\n",
    "#Prepare class accuracy plot\n",
    "total_accuracy = mt.accuracy_score(y, yhat)\n",
    "print ('Accuracy', total_accuracy)\n",
    "plot_class_acc(y,yhat,title=\"Random Forest\")\n",
    "print (clf)\n"
   ]
  },
  {
   "cell_type": "markdown",
   "id": "9887d7af",
   "metadata": {},
   "source": [
    "### Classification Model #3: Gaussian Naive Bayes"
   ]
  },
  {
   "cell_type": "code",
   "execution_count": 127,
   "id": "c2d92015",
   "metadata": {},
   "outputs": [
    {
     "name": "stdout",
     "output_type": "stream",
     "text": [
      "              precision    recall  f1-score   support\n",
      "\n",
      "           0       0.61      0.73      0.67     29072\n",
      "           1       0.66      0.54      0.60     29072\n",
      "\n",
      "    accuracy                           0.63     58144\n",
      "   macro avg       0.64      0.63      0.63     58144\n",
      "weighted avg       0.64      0.63      0.63     58144\n",
      "\n",
      "Accuracy 0.6336853329664281\n"
     ]
    },
    {
     "data": {
      "image/png": "[encoded data removed]",
      "text/plain": [
       "<Figure size 432x288 with 1 Axes>"
      ]
     },
     "metadata": {
      "needs_background": "light"
     },
     "output_type": "display_data"
    }
   ],
   "source": [
    "#Although we set this up as a widget, there are no parameters available to tune here!\n",
    "\n",
    "#Build up NB model\n",
    "clf3 = GaussianNB()\n",
    "\n",
    "#now iterate through and get predictions, saved to the correct row in yhat\n",
    "for train, test in cv_object_log_reg.split(X,y):\n",
    "    clf3.fit(X[train],y[train])\n",
    "    yhat[test] = clf3.predict(X[test])\n",
    "\n",
    "#Print a report on scores for model\n",
    "print(classification_report(y, yhat)) \n",
    "\n",
    "#Setup class accuracy plot\n",
    "total_accuracy = mt.accuracy_score(y, yhat)\n",
    "print ('Accuracy', total_accuracy)\n",
    "plot_class_acc(y,yhat,title=\"Gaussian Naive Bayes\")"
   ]
  },
  {
   "cell_type": "markdown",
   "id": "5c6507ae",
   "metadata": {},
   "source": [
    "|Model |  Accuracy | Precision |\n",
    "| --- | --- | --- |\n",
    "| KNN  | 62.3% | 63% | \n",
    "| Random Forest | 72.3% | 72% | \n",
    "| Gaussian Naive Bayes | 63.4% | 64% | \n"
   ]
  },
  {
   "cell_type": "markdown",
   "id": "81bb63dc",
   "metadata": {},
   "source": [
    "A quick glance shows that according to our metric of classification success, the Random Forest classifier comes cloest to meeting our requirments, unfortunately the model falls slightly short of our 0.8% accuracy.  And none of the models meet our metric. \n",
    "\n",
    "With that said, the visuals tell a compelling story.  We can see that each model perfroms better than randomly guessing if a flight will be delayed or not.  KNN comes in with the lowest accuracy at 62.3%, and does slightly better than a random binary guess.  Gaussian Naive Bayes' performance is similar, although slightly better at 63.4%.  Random forest comes in at 72.3%.\n",
    "\n",
    "Each of the models are useful and can help us gain insight on \"on_time_arrival\".  Despite the random forest classifer performing the best, computational time is an issue and for slightly less accuracy gaussian naive bayes can be run almost instantly.  \n",
    "\n",
    "The plots help us visualize that for each classifer, the within class accuracy. With the exception of random forest, the models more accurately capture the 0 class (on-time-arrival).  This shows that the classifers can help someone who is interested in seeing if a given flight will be ontime given a set of inputs than if a flight is delayed (ever so slighly so).  "
   ]
  },
  {
   "cell_type": "markdown",
   "id": "40c848ec",
   "metadata": {},
   "source": [
    "# Modeling and Evaluation 5"
   ]
  },
  {
   "cell_type": "markdown",
   "id": "be707590",
   "metadata": {},
   "source": [
    "# Modeling and Evaluation 6"
   ]
  },
  {
   "cell_type": "code",
   "execution_count": 136,
   "id": "19dae394",
   "metadata": {},
   "outputs": [
    {
     "data": {
      "image/png": "[encoded data removed]",
      "text/plain": [
       "<Figure size 432x288 with 1 Axes>"
      ]
     },
     "metadata": {
      "needs_background": "light"
     },
     "output_type": "display_data"
    },
    {
     "name": "stdout",
     "output_type": "stream",
     "text": [
      "Generalization score estimate from training data 0.7010793054903801\n"
     ]
    }
   ],
   "source": [
    "#Plot feature importances\n",
    "plt.barh(range(len(clf.feature_importances_)), clf.feature_importances_)\n",
    "plt.show()\n",
    "print ('Generalization score estimate from training data', clf.oob_score_)"
   ]
  },
  {
   "cell_type": "markdown",
   "id": "34983ef5",
   "metadata": {},
   "source": [
    "# Deployment\n",
    "\n",
    "\n",
    "## How useful is our model for interested parties?\n",
    "\n",
    "This model has an appliation for two parties; air travelers and airlines.  \n",
    "\n",
    "To address air travelers, our model can be useful in several ways.  The model can be used to evaluate an airlines overall ability to generally deliver passengers to their destination in the promised amount of time.  Furthermore, passengers can use this model to look at the different airlines, origins, and time of year to help determine the likelyhood of their flight arriving at its destination on time.  The classification model can be used to tell a passenger if, given a set of inputs for their flight, their flight will classify as on time or not.  The regression model can be used to determine how late their arriving flight will be given a set of inputs like airline, delay type, and time of year.  \n",
    "\n",
    "To address airlines, our model can be useful in several ways.  Airlines can use this model to look at where, when, and how certain flights from origins end up arrving at their destinations delayed.  They can use this information to update their schedules and work on their operational reliability in terms of delivering passengers in the promised time slot.  Airlines can use the classification model to investiate which flights arrive late, and with that information they can dig deeper into the causes of those arrival delays.  The airlines can use the regression models to determine which delay types are most impactful on getting aircraft to their destinations in a timely fashion (The outcome is delay length, a good question they could as is, \"what is the most impactful delay type (security,weather, NAS), that causes our flights to arrive late?).  They can also use this model to investiagte seasonality of delays and investigate questions like, \"Are weather delays longer during winter months?\" Or \"Does do NAS delays occur more often in summertime?\"\n",
    "\n",
    "## How would we deploy our models?\n",
    "\n",
    "We belive that this model could be deployed into a production environment of an airlines scheduling opeartions center.  The airline could create the new proposed schedule and run it through the classification model and look at which flights have high potential to not arrive on time.  They could then use our regression model to look at seasonality and how a delay would impact the ability for a flight to arrive on time.\n",
    "\n",
    "This model can also be used on the consumer side to help consumers make informed decisions about which flights to take.  Maybe they have a very important meeting and want to see if they can make their meeting given that for example their United flight has a carrier or weather delay.  \n",
    "\n",
    "## What other data should be collected?\n",
    "\n",
    "We feel that the data collected is more than adequate.  If we could add one variable we would like to see the inclusion of aircraft type as this could shed some light on questions like, are larger aircraft more often arriving late? Or are smaller aircraft more asscoiated with carrier delays.\n",
    "\n",
    "\n",
    "\n",
    "\n",
    "## How often does the model need to be updated?\n",
    "\n",
    "Ideally this model would be updated yearly as the DOT releases its yearly statistics for the airline industry.  This task could almost certainly be automated and integrated into the rest of the data.  This process is a solid way to update the data since the variables or collection metrics will not change over time as they all need to be captured to evaluate airlines.  "
   ]
  },
  {
   "cell_type": "markdown",
   "id": "3ff0b9b0",
   "metadata": {},
   "source": [
    "# Exceptional Work\n",
    "\n",
    "Section not required due to team size"
   ]
  }
 ],
 "metadata": {
  "kernelspec": {
   "display_name": "Python 3",
   "language": "python",
   "name": "python3"
  },
  "language_info": {
   "codemirror_mode": {
    "name": "ipython",
    "version": 3
   },
   "file_extension": ".py",
   "mimetype": "text/x-python",
   "name": "python",
   "nbconvert_exporter": "python",
   "pygments_lexer": "ipython3",
   "version": "3.9.1"
  }
 },
 "nbformat": 4,
 "nbformat_minor": 5
}
