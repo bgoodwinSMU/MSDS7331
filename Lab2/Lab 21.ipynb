{
 "cells": [
  {
   "cell_type": "markdown",
   "id": "849210f1",
   "metadata": {},
   "source": [
    "# Lab 2, Classification\n",
    "\n",
    "# Group 1, Ben Goodwin and Andre Mauldin\n",
    "\n",
    "In this analysis we will build upon the mini project and add additional modeling from new classification techniques.\n",
    "\n",
    "We will classify if a given flight will have an on time arrival or not\n",
    "\n",
    "We will regress the arrival delay length given a delay type, operating airline, origin airport, and month.  \n"
   ]
  },
  {
   "cell_type": "markdown",
   "id": "16475a9f",
   "metadata": {},
   "source": [
    "# Data Preperation Part I"
   ]
  },
  {
   "cell_type": "code",
   "execution_count": 2,
   "id": "3deb3141",
   "metadata": {},
   "outputs": [],
   "source": [
    "#import libraries\n",
    "from __future__ import print_function\n",
    "\n",
    "import pandas as pd\n",
    "import numpy as np\n",
    "\n",
    "#Read in the flight delay data\n",
    "#Our data is from Department of transportation\n",
    "#https://www.bts.gov/topics/airlines-and-airports/number-14-time-reporting\n",
    "df = pd.read_csv('2018.csv') # read in the csv file\n",
    "#df.info()\n",
    "\n",
    "#Reduce dataset to a more manageable size.\n",
    "#We randomly sampled 150,000 records.  This is a reasonable sample size that will not cause excessively long computation times\n",
    "dfReduced=df.sample(n=150000, random_state=1)"
   ]
  },
  {
   "cell_type": "markdown",
   "id": "925db372",
   "metadata": {},
   "source": [
    "### Cleaning up the Data\n",
    "\n",
    "Next, we create an array of each type of delay. This will be helpful as we will need to handle the missing values for the delays."
   ]
  },
  {
   "cell_type": "code",
   "execution_count": 3,
   "id": "9a8f3a95",
   "metadata": {},
   "outputs": [
    {
     "name": "stdout",
     "output_type": "stream",
     "text": [
      "<class 'pandas.core.frame.DataFrame'>\n",
      "Int64Index: 150000 entries, 695058 to 499540\n",
      "Data columns (total 15 columns):\n",
      " #   Column               Non-Null Count   Dtype  \n",
      "---  ------               --------------   -----  \n",
      " 0   FL_DATE              150000 non-null  object \n",
      " 1   OP_CARRIER           150000 non-null  object \n",
      " 2   ORIGIN               150000 non-null  object \n",
      " 3   DEP_DELAY            147518 non-null  float64\n",
      " 4   CRS_ARR_TIME         150000 non-null  int64  \n",
      " 5   ARR_TIME             147492 non-null  float64\n",
      " 6   ARR_DELAY            147112 non-null  float64\n",
      " 7   CRS_ELAPSED_TIME     150000 non-null  float64\n",
      " 8   ACTUAL_ELAPSED_TIME  147165 non-null  float64\n",
      " 9   AIR_TIME             147165 non-null  float64\n",
      " 10  CARRIER_DELAY        28035 non-null   float64\n",
      " 11  WEATHER_DELAY        28035 non-null   float64\n",
      " 12  NAS_DELAY            28035 non-null   float64\n",
      " 13  SECURITY_DELAY       28035 non-null   float64\n",
      " 14  LATE_AIRCRAFT_DELAY  28035 non-null   float64\n",
      "dtypes: float64(11), int64(1), object(3)\n",
      "memory usage: 18.3+ MB\n"
     ]
    },
    {
     "data": {
      "text/html": [
       "<div>\n",
       "<style scoped>\n",
       "    .dataframe tbody tr th:only-of-type {\n",
       "        vertical-align: middle;\n",
       "    }\n",
       "\n",
       "    .dataframe tbody tr th {\n",
       "        vertical-align: top;\n",
       "    }\n",
       "\n",
       "    .dataframe thead th {\n",
       "        text-align: right;\n",
       "    }\n",
       "</style>\n",
       "<table border=\"1\" class=\"dataframe\">\n",
       "  <thead>\n",
       "    <tr style=\"text-align: right;\">\n",
       "      <th></th>\n",
       "      <th>DEP_DELAY</th>\n",
       "      <th>ARR_DELAY</th>\n",
       "      <th>CARRIER_DELAY</th>\n",
       "      <th>WEATHER_DELAY</th>\n",
       "      <th>NAS_DELAY</th>\n",
       "      <th>SECURITY_DELAY</th>\n",
       "      <th>LATE_AIRCRAFT_DELAY</th>\n",
       "    </tr>\n",
       "  </thead>\n",
       "  <tbody>\n",
       "    <tr>\n",
       "      <th>count</th>\n",
       "      <td>147518.00000</td>\n",
       "      <td>147112.00000</td>\n",
       "      <td>28035.00000</td>\n",
       "      <td>28035.00000</td>\n",
       "      <td>28035.00000</td>\n",
       "      <td>28035.00000</td>\n",
       "      <td>28035.00000</td>\n",
       "    </tr>\n",
       "    <tr>\n",
       "      <th>mean</th>\n",
       "      <td>9.90160</td>\n",
       "      <td>4.97184</td>\n",
       "      <td>19.25297</td>\n",
       "      <td>3.53080</td>\n",
       "      <td>15.95798</td>\n",
       "      <td>0.08935</td>\n",
       "      <td>25.82215</td>\n",
       "    </tr>\n",
       "    <tr>\n",
       "      <th>std</th>\n",
       "      <td>45.12021</td>\n",
       "      <td>47.21904</td>\n",
       "      <td>60.43911</td>\n",
       "      <td>27.28905</td>\n",
       "      <td>36.98216</td>\n",
       "      <td>3.13707</td>\n",
       "      <td>51.35604</td>\n",
       "    </tr>\n",
       "    <tr>\n",
       "      <th>min</th>\n",
       "      <td>-43.00000</td>\n",
       "      <td>-77.00000</td>\n",
       "      <td>0.00000</td>\n",
       "      <td>0.00000</td>\n",
       "      <td>0.00000</td>\n",
       "      <td>0.00000</td>\n",
       "      <td>0.00000</td>\n",
       "    </tr>\n",
       "    <tr>\n",
       "      <th>25%</th>\n",
       "      <td>-5.00000</td>\n",
       "      <td>-14.00000</td>\n",
       "      <td>0.00000</td>\n",
       "      <td>0.00000</td>\n",
       "      <td>0.00000</td>\n",
       "      <td>0.00000</td>\n",
       "      <td>0.00000</td>\n",
       "    </tr>\n",
       "    <tr>\n",
       "      <th>50%</th>\n",
       "      <td>-2.00000</td>\n",
       "      <td>-6.00000</td>\n",
       "      <td>0.00000</td>\n",
       "      <td>0.00000</td>\n",
       "      <td>3.00000</td>\n",
       "      <td>0.00000</td>\n",
       "      <td>3.00000</td>\n",
       "    </tr>\n",
       "    <tr>\n",
       "      <th>75%</th>\n",
       "      <td>7.00000</td>\n",
       "      <td>8.00000</td>\n",
       "      <td>17.00000</td>\n",
       "      <td>0.00000</td>\n",
       "      <td>20.00000</td>\n",
       "      <td>0.00000</td>\n",
       "      <td>31.00000</td>\n",
       "    </tr>\n",
       "    <tr>\n",
       "      <th>max</th>\n",
       "      <td>1603.00000</td>\n",
       "      <td>1594.00000</td>\n",
       "      <td>1594.00000</td>\n",
       "      <td>976.00000</td>\n",
       "      <td>1205.00000</td>\n",
       "      <td>398.00000</td>\n",
       "      <td>1379.00000</td>\n",
       "    </tr>\n",
       "  </tbody>\n",
       "</table>\n",
       "</div>"
      ],
      "text/plain": [
       "          DEP_DELAY     ARR_DELAY CARRIER_DELAY WEATHER_DELAY    NAS_DELAY  \\\n",
       "count  147518.00000  147112.00000   28035.00000   28035.00000  28035.00000   \n",
       "mean        9.90160       4.97184      19.25297       3.53080     15.95798   \n",
       "std        45.12021      47.21904      60.43911      27.28905     36.98216   \n",
       "min       -43.00000     -77.00000       0.00000       0.00000      0.00000   \n",
       "25%        -5.00000     -14.00000       0.00000       0.00000      0.00000   \n",
       "50%        -2.00000      -6.00000       0.00000       0.00000      3.00000   \n",
       "75%         7.00000       8.00000      17.00000       0.00000     20.00000   \n",
       "max      1603.00000    1594.00000    1594.00000     976.00000   1205.00000   \n",
       "\n",
       "      SECURITY_DELAY LATE_AIRCRAFT_DELAY  \n",
       "count    28035.00000         28035.00000  \n",
       "mean         0.08935            25.82215  \n",
       "std          3.13707            51.35604  \n",
       "min          0.00000             0.00000  \n",
       "25%          0.00000             0.00000  \n",
       "50%          0.00000             3.00000  \n",
       "75%          0.00000            31.00000  \n",
       "max        398.00000          1379.00000  "
      ]
     },
     "execution_count": 3,
     "metadata": {},
     "output_type": "execute_result"
    }
   ],
   "source": [
    "#Remove attributes that just arent useful for us\n",
    "#Each of these variables removed is either of no use or can be derived using other variables in dataset. \n",
    "del dfReduced['DIVERTED']\n",
    "del dfReduced['DISTANCE']\n",
    "del dfReduced['TAXI_OUT']\n",
    "del dfReduced['TAXI_IN']\n",
    "del dfReduced['Unnamed: 27']\n",
    "del dfReduced['CANCELLED']\n",
    "del dfReduced['CANCELLATION_CODE']\n",
    "del dfReduced['DEST']\n",
    "del dfReduced['OP_CARRIER_FL_NUM']\n",
    "del dfReduced['WHEELS_ON']\n",
    "del dfReduced['DEP_TIME']\n",
    "del dfReduced['WHEELS_OFF']\n",
    "del dfReduced['CRS_DEP_TIME']\n",
    "\n",
    "\n",
    "#Bring all delay types into one variable \"delayArr\"\n",
    "dfReduced.info()\n",
    "delayArr = [\n",
    "    'DEP_DELAY'\n",
    "    ,'ARR_DELAY'\n",
    "    ,'CARRIER_DELAY'\n",
    "    ,'WEATHER_DELAY'\n",
    "    ,'NAS_DELAY'\n",
    "    ,'SECURITY_DELAY'\n",
    "    ,'LATE_AIRCRAFT_DELAY'\n",
    "]\n",
    "dfReduced[delayArr].describe().apply(lambda s: s.apply('{0:.5f}'.format)) # will get summary of continuous or the nominals non-scientific"
   ]
  },
  {
   "cell_type": "code",
   "execution_count": 4,
   "id": "31a724f4",
   "metadata": {},
   "outputs": [],
   "source": [
    "#Here we take the date of the flight and place it into a month so that we can investiage seasonal trends and create our\n",
    "#outcome variable of \"ON_TIME_ARRIVAL.\"  This is what we will be predicting\n",
    "dfReduced['MONTH'] = dfReduced['FL_DATE'].str[5:7]\n",
    "conditions = [\n",
    "    (dfReduced['CRS_ARR_TIME'] >= dfReduced['ARR_TIME']),\n",
    "    (dfReduced['CRS_ARR_TIME'] < dfReduced['ARR_TIME'])]\n",
    "choices = [1, 0]\n",
    "\n",
    "dfReduced['ON_TIME_ARRIVAL'] = np.select(conditions, choices, default='null')"
   ]
  },
  {
   "cell_type": "markdown",
   "id": "0ddcb8ab",
   "metadata": {},
   "source": [
    "We are dropping rows that are NA for arrival time, expected arrival time, actual elapsed time, and air time. We are only interested in flights that arrived at their destination.\n",
    "\n",
    "Arrival time is needed to calculate OTA in order to train the model. ACTUAL_ELAPSED_TIME and AIR_TIME are related to the how long it took to flight to arrive at it's destination. We drop the NAs because only flights that actually arrive will have a value.\n",
    "\n",
    "For our delay variables, we set the NAs to 0.0, meaning there was no delay.  The previous value wa NaN which can't be calculated using logistic regression."
   ]
  },
  {
   "cell_type": "code",
   "execution_count": 5,
   "id": "00117ee2",
   "metadata": {},
   "outputs": [],
   "source": [
    "# We are only interested in flights that actually arrived.\n",
    "# NAs are very few for these columns.  We will drop them.\n",
    "dfReduced = dfReduced.dropna(subset=['ARR_TIME', 'CRS_ELAPSED_TIME', 'ACTUAL_ELAPSED_TIME', 'AIR_TIME'])\n",
    "\n",
    "# Set NaN values to 0.0 to show zero minutes for delay time. Used array and for loop to avoid repetetive code\n",
    "\n",
    "def replaceNaN(data, arr):\n",
    "    for delayType in arr:\n",
    "        data[delayType] = data[delayType].fillna(0.0)\n",
    "    return data\n",
    "\n",
    "dfReduced = replaceNaN(dfReduced, delayArr)\n"
   ]
  },
  {
   "cell_type": "code",
   "execution_count": 6,
   "id": "0c28fb1a",
   "metadata": {},
   "outputs": [
    {
     "name": "stdout",
     "output_type": "stream",
     "text": [
      "<class 'pandas.core.frame.DataFrame'>\n",
      "Int64Index: 45284 entries, 929508 to 6830663\n",
      "Data columns (total 16 columns):\n",
      " #   Column               Non-Null Count  Dtype  \n",
      "---  ------               --------------  -----  \n",
      " 0   OP_CARRIER           45284 non-null  object \n",
      " 1   ORIGIN               45284 non-null  object \n",
      " 2   DEP_DELAY            45284 non-null  float64\n",
      " 3   CRS_ARR_TIME         45284 non-null  int64  \n",
      " 4   ARR_TIME             45284 non-null  float64\n",
      " 5   ARR_DELAY            45284 non-null  float64\n",
      " 6   CRS_ELAPSED_TIME     45284 non-null  float64\n",
      " 7   ACTUAL_ELAPSED_TIME  45284 non-null  float64\n",
      " 8   AIR_TIME             45284 non-null  float64\n",
      " 9   CARRIER_DELAY        45284 non-null  float64\n",
      " 10  WEATHER_DELAY        45284 non-null  float64\n",
      " 11  NAS_DELAY            45284 non-null  float64\n",
      " 12  SECURITY_DELAY       45284 non-null  float64\n",
      " 13  LATE_AIRCRAFT_DELAY  45284 non-null  float64\n",
      " 14  MONTH                45284 non-null  object \n",
      " 15  ON_TIME_ARRIVAL      45284 non-null  object \n",
      "dtypes: float64(11), int64(1), object(4)\n",
      "memory usage: 5.9+ MB\n"
     ]
    }
   ],
   "source": [
    "#Now that we have month, lets get rid of FL_DATE as the information is captured\n",
    "del dfReduced['FL_DATE']\n",
    "#Lets reduce to top 10 airports by passengers for 2018\n",
    "#https://en.wikipedia.org/wiki/List_of_the_busiest_airports_in_the_United_States#Busiest_U.S._airports_by_total_passenger_traffic_(2018)\n",
    "dfReduced=dfReduced[dfReduced.ORIGIN.eq(\"ATL\")| dfReduced.ORIGIN.eq(\"LAX\")| dfReduced.ORIGIN.eq(\"ORD\")| dfReduced.ORIGIN.eq(\"DFW\")| dfReduced.ORIGIN.eq(\"DEN\")| dfReduced.ORIGIN.eq(\"JFK\")| dfReduced.ORIGIN.eq(\"SFO\")| dfReduced.ORIGIN.eq(\"SEA\")| dfReduced.ORIGIN.eq(\"LAS\")| dfReduced.ORIGIN.eq(\"MCO\")]\n",
    "#print(dfReduced)\n",
    "dfReduced[['OP_CARRIER','ORIGIN','MONTH','ON_TIME_ARRIVAL']].describe().transpose()\n",
    "\n",
    "#Make sure datatypes for all variables are good to go\n",
    "dfReduced.info()"
   ]
  },
  {
   "cell_type": "markdown",
   "id": "2f42980d",
   "metadata": {},
   "source": [
    "### Perform One-Hot encoding of categorical data\n",
    "\n",
    "#### Remove other unused variables\n",
    "\n",
    "#### Also remove variables that are captured in other variables"
   ]
  },
  {
   "cell_type": "code",
   "execution_count": 7,
   "id": "983af1a7",
   "metadata": {},
   "outputs": [
    {
     "name": "stdout",
     "output_type": "stream",
     "text": [
      "<class 'pandas.core.frame.DataFrame'>\n",
      "Int64Index: 45284 entries, 929508 to 6830663\n",
      "Data columns (total 49 columns):\n",
      " #   Column                Non-Null Count  Dtype  \n",
      "---  ------                --------------  -----  \n",
      " 0   DEP_DELAY             45284 non-null  float64\n",
      " 1   ACTUAL_ELAPSED_TIME   45284 non-null  float64\n",
      " 2   AIR_TIME              45284 non-null  float64\n",
      " 3   CARRIER_DELAY         45284 non-null  float64\n",
      " 4   WEATHER_DELAY         45284 non-null  float64\n",
      " 5   NAS_DELAY             45284 non-null  float64\n",
      " 6   SECURITY_DELAY        45284 non-null  float64\n",
      " 7   LATE_AIRCRAFT_DELAY   45284 non-null  float64\n",
      " 8   ON_TIME_ARRIVAL       45284 non-null  object \n",
      " 9   Operating Carrier_9E  45284 non-null  uint8  \n",
      " 10  Operating Carrier_AA  45284 non-null  uint8  \n",
      " 11  Operating Carrier_AS  45284 non-null  uint8  \n",
      " 12  Operating Carrier_B6  45284 non-null  uint8  \n",
      " 13  Operating Carrier_DL  45284 non-null  uint8  \n",
      " 14  Operating Carrier_EV  45284 non-null  uint8  \n",
      " 15  Operating Carrier_F9  45284 non-null  uint8  \n",
      " 16  Operating Carrier_G4  45284 non-null  uint8  \n",
      " 17  Operating Carrier_HA  45284 non-null  uint8  \n",
      " 18  Operating Carrier_MQ  45284 non-null  uint8  \n",
      " 19  Operating Carrier_NK  45284 non-null  uint8  \n",
      " 20  Operating Carrier_OH  45284 non-null  uint8  \n",
      " 21  Operating Carrier_OO  45284 non-null  uint8  \n",
      " 22  Operating Carrier_UA  45284 non-null  uint8  \n",
      " 23  Operating Carrier_VX  45284 non-null  uint8  \n",
      " 24  Operating Carrier_WN  45284 non-null  uint8  \n",
      " 25  Operating Carrier_YV  45284 non-null  uint8  \n",
      " 26  Operating Carrier_YX  45284 non-null  uint8  \n",
      " 27  Origin_ATL            45284 non-null  uint8  \n",
      " 28  Origin_DEN            45284 non-null  uint8  \n",
      " 29  Origin_DFW            45284 non-null  uint8  \n",
      " 30  Origin_JFK            45284 non-null  uint8  \n",
      " 31  Origin_LAS            45284 non-null  uint8  \n",
      " 32  Origin_LAX            45284 non-null  uint8  \n",
      " 33  Origin_MCO            45284 non-null  uint8  \n",
      " 34  Origin_ORD            45284 non-null  uint8  \n",
      " 35  Origin_SEA            45284 non-null  uint8  \n",
      " 36  Origin_SFO            45284 non-null  uint8  \n",
      " 37  Month_01              45284 non-null  uint8  \n",
      " 38  Month_02              45284 non-null  uint8  \n",
      " 39  Month_03              45284 non-null  uint8  \n",
      " 40  Month_04              45284 non-null  uint8  \n",
      " 41  Month_05              45284 non-null  uint8  \n",
      " 42  Month_06              45284 non-null  uint8  \n",
      " 43  Month_07              45284 non-null  uint8  \n",
      " 44  Month_08              45284 non-null  uint8  \n",
      " 45  Month_09              45284 non-null  uint8  \n",
      " 46  Month_10              45284 non-null  uint8  \n",
      " 47  Month_11              45284 non-null  uint8  \n",
      " 48  Month_12              45284 non-null  uint8  \n",
      "dtypes: float64(8), object(1), uint8(40)\n",
      "memory usage: 5.2+ MB\n"
     ]
    }
   ],
   "source": [
    "# perform one-hot encoding of the categorical data \"OP_CARRIER\"\n",
    "tmp_df = pd.get_dummies(dfReduced.OP_CARRIER,prefix=\"Operating Carrier\")\n",
    "dfReduced = pd.concat((dfReduced,tmp_df),axis=1)\n",
    "\n",
    "# perform one-hot encoding of the categorical data \"ORIGIN\"\n",
    "tmp_df = pd.get_dummies(dfReduced.ORIGIN,prefix=\"Origin\")\n",
    "dfReduced = pd.concat((dfReduced,tmp_df),axis=1)\n",
    "\n",
    "# perform one-hot encoding of the categorical data \"Month\"\n",
    "tmp_df = pd.get_dummies(dfReduced.MONTH,prefix=\"Month\")\n",
    "dfReduced = pd.concat((dfReduced,tmp_df),axis=1)\n",
    "\n",
    "\n",
    "#Kill variables we hot-encoded\n",
    "del dfReduced['OP_CARRIER']\n",
    "del dfReduced['ORIGIN']\n",
    "del dfReduced['MONTH']\n",
    "\n",
    "#Create new DF for Regression Problem\n",
    "#If a flight is delayed, which delay type produces long delays?\n",
    "dfReg = dfReduced.copy()\n",
    "\n",
    "#Kill Varibles we no longer need because they are encoded in ON_TIME_ARRIVAL\n",
    "del dfReduced['ARR_TIME']\n",
    "del dfReduced['CRS_ARR_TIME']\n",
    "del dfReduced['CRS_ELAPSED_TIME']\n",
    "\n",
    "#Drop Arr_delay, because this is essentially a proxy for 'ON_TIME_ARRIVAL'\n",
    "del dfReduced['ARR_DELAY']\n",
    "\n",
    "dfReduced.info()"
   ]
  },
  {
   "cell_type": "code",
   "execution_count": 9,
   "id": "5d5d48c8",
   "metadata": {},
   "outputs": [
    {
     "name": "stdout",
     "output_type": "stream",
     "text": [
      "         DEP_DELAY  ACTUAL_ELAPSED_TIME  AIR_TIME  CARRIER_DELAY  \\\n",
      "929508    0.149042             0.232628  0.208909            0.0   \n",
      "2390254   0.023314             0.063444  0.052227            0.0   \n",
      "1797438   0.094088             0.441088  0.414747            0.0   \n",
      "4821960   0.024147             0.067976  0.066052            0.0   \n",
      "4330544   0.059117             0.048338  0.035330            0.0   \n",
      "...            ...                  ...       ...            ...   \n",
      "2987493   0.023314             0.365559  0.347158            0.0   \n",
      "4443275   0.024979             0.312689  0.302611            0.0   \n",
      "5364170   0.019151             0.125378  0.113671            0.0   \n",
      "5364381   0.034138             0.206949  0.199693            0.0   \n",
      "6830663   0.017485             0.410876  0.414747            0.0   \n",
      "\n",
      "         WEATHER_DELAY  NAS_DELAY  SECURITY_DELAY  LATE_AIRCRAFT_DELAY  \\\n",
      "929508        0.000000   0.163063             0.0             0.000000   \n",
      "2390254       0.000000   0.000000             0.0             0.000000   \n",
      "1797438       0.000000   0.069369             0.0             0.000000   \n",
      "4821960       0.000000   0.000000             0.0             0.000000   \n",
      "4330544       0.026923   0.000000             0.0             0.019093   \n",
      "...                ...        ...             ...                  ...   \n",
      "2987493       0.000000   0.000000             0.0             0.000000   \n",
      "4443275       0.000000   0.000000             0.0             0.000000   \n",
      "5364170       0.000000   0.000000             0.0             0.000000   \n",
      "5364381       0.000000   0.000000             0.0             0.000000   \n",
      "6830663       0.000000   0.000000             0.0             0.000000   \n",
      "\n",
      "        ON_TIME_ARRIVAL  Operating Carrier_9E  ...  Month_03  Month_04  \\\n",
      "929508                0                     0  ...         0         0   \n",
      "2390254               1                     0  ...         0         0   \n",
      "1797438               0                     0  ...         0         1   \n",
      "4821960               1                     0  ...         0         0   \n",
      "4330544               0                     0  ...         0         0   \n",
      "...                 ...                   ...  ...       ...       ...   \n",
      "2987493               0                     0  ...         0         0   \n",
      "4443275               1                     0  ...         0         0   \n",
      "5364170               1                     0  ...         0         0   \n",
      "5364381               1                     0  ...         0         0   \n",
      "6830663               1                     0  ...         0         0   \n",
      "\n",
      "         Month_05  Month_06  Month_07  Month_08  Month_09  Month_10  Month_11  \\\n",
      "929508          0         0         0         0         0         0         0   \n",
      "2390254         1         0         0         0         0         0         0   \n",
      "1797438         0         0         0         0         0         0         0   \n",
      "4821960         0         0         0         1         0         0         0   \n",
      "4330544         0         0         0         1         0         0         0   \n",
      "...           ...       ...       ...       ...       ...       ...       ...   \n",
      "2987493         0         1         0         0         0         0         0   \n",
      "4443275         0         0         0         1         0         0         0   \n",
      "5364170         0         0         0         0         1         0         0   \n",
      "5364381         0         0         0         0         1         0         0   \n",
      "6830663         0         0         0         0         0         0         0   \n",
      "\n",
      "         Month_12  \n",
      "929508          0  \n",
      "2390254         0  \n",
      "1797438         0  \n",
      "4821960         0  \n",
      "4330544         0  \n",
      "...           ...  \n",
      "2987493         0  \n",
      "4443275         0  \n",
      "5364170         0  \n",
      "5364381         0  \n",
      "6830663         1  \n",
      "\n",
      "[45284 rows x 49 columns]\n"
     ]
    },
    {
     "data": {
      "image/png": "[encoded data removed]",
      "text/plain": [
       "<Figure size 432x288 with 1 Axes>"
      ]
     },
     "metadata": {
      "needs_background": "light"
     },
     "output_type": "display_data"
    }
   ],
   "source": [
    "#Investigate suitability of data for logistic regression\n",
    "#This data is quite imblanaced and could result in reasonably high classifcation by just assuming flights arrive on time.\n",
    "#This will need to be fixed. We correct this a few sections down, but its important to visualize now. \n",
    "import seaborn as sns\n",
    "dfReduced['ON_TIME_ARRIVAL'].value_counts()\n",
    "\n",
    "sns.countplot(x='ON_TIME_ARRIVAL',data=dfReduced,palette='hls')\n",
    "\n",
    "#This section scales the variables to values between 0 and 1 in order to get the data ready for logistic regression.\n",
    "#We only scale variables that aren't already between 0 and 1\n",
    "from sklearn.preprocessing import MinMaxScaler\n",
    "\n",
    "# Scale only columns that have values greater than 1\n",
    "mms = MinMaxScaler()\n",
    "dfScaled=dfReduced\n",
    "dfScaled[[\"DEP_DELAY\",\"ACTUAL_ELAPSED_TIME\",\"AIR_TIME\",\"CARRIER_DELAY\",\"WEATHER_DELAY\",\"NAS_DELAY\",\n",
    "          \"SECURITY_DELAY\",\"LATE_AIRCRAFT_DELAY\"]] = mms.fit_transform(dfScaled[[\"DEP_DELAY\",\"ACTUAL_ELAPSED_TIME\",\"AIR_TIME\",\"CARRIER_DELAY\",\"WEATHER_DELAY\",\"NAS_DELAY\",\n",
    "          \"SECURITY_DELAY\",\"LATE_AIRCRAFT_DELAY\"]])\n",
    "print(dfScaled)"
   ]
  },
  {
   "cell_type": "markdown",
   "id": "8c749b3f",
   "metadata": {},
   "source": [
    "#### Data Preperation for Regression"
   ]
  },
  {
   "cell_type": "code",
   "execution_count": 84,
   "id": "74c38fa6",
   "metadata": {},
   "outputs": [],
   "source": [
    "import datetime\n",
    "dfReg1 =dfReg.copy()\n",
    "\n",
    "dfReg1['ARR_TIME']=dfReg1['ARR_TIME'].astype(int)\n",
    "dfReg1['ARR_TIME']=dfReg1['ARR_TIME'].round()\n",
    "dfReg1['ARR_STRING']=dfReg1['ARR_TIME'].apply(str)\n",
    "\n",
    "dfReg1['ARR_STRING']=dfReg1['ARR_STRING'].str.pad(width=4,side='left',fillchar='0')\n",
    "time=(dfReg1.assign(newtime=pd.to_datetime(dfReg1['ARR_STRING'],format='%H%M',errors='coerce')))\n",
    "\n",
    "time['newtime'] = time['newtime'].dt.strftime('%H:%M')\n",
    "time['newtime'] = time['newtime'].astype('datetime64').dt.time\n",
    "\n",
    "\n",
    "dfReg1['CRS_ARR_TIME']=dfReg1['CRS_ARR_TIME'].astype(int)\n",
    "dfReg1['CRS_ARR_TIME']=dfReg1['CRS_ARR_TIME'].round()\n",
    "dfReg1['CRS_ARR_STRING']=dfReg1['CRS_ARR_TIME'].apply(str)\n",
    "\n",
    "\n",
    "dfReg1['CRS_ARR_STRING']=dfReg1['CRS_ARR_STRING'].str.pad(width=4,side='left',fillchar='0')\n",
    "time=(dfReg1.assign(CRSnewtime=pd.to_datetime(dfReg1['CRS_ARR_STRING'],format='%H%M',errors='coerce')))\n",
    "time['CRSnewtime'] = time['CRSnewtime'].dt.strftime('%H:%M')\n",
    "time['CRSnewtime'] = time['CRSnewtime'].astype('datetime64').dt.time\n",
    "\n",
    "\n"
   ]
  },
  {
   "cell_type": "code",
   "execution_count": 85,
   "id": "a51f4d1b",
   "metadata": {},
   "outputs": [
    {
     "data": {
      "text/plain": [
       "929508     19:26:00\n",
       "2390254    15:55:00\n",
       "1797438    16:47:00\n",
       "4821960    10:15:00\n",
       "4330544    18:41:00\n",
       "             ...   \n",
       "2987493    20:32:00\n",
       "4443275    19:55:00\n",
       "5364170    08:05:00\n",
       "5364381    00:55:00\n",
       "6830663    05:13:00\n",
       "Name: CRSnewtime, Length: 45284, dtype: object"
      ]
     },
     "execution_count": 85,
     "metadata": {},
     "output_type": "execute_result"
    }
   ],
   "source": [
    "time['CRSnewtime']"
   ]
  },
  {
   "cell_type": "code",
   "execution_count": 64,
   "id": "71df5476",
   "metadata": {},
   "outputs": [
    {
     "ename": "TypeError",
     "evalue": "unsupported operand type(s) for -: 'str' and 'int'",
     "output_type": "error",
     "traceback": [
      "\u001b[0;31m---------------------------------------------------------------------------\u001b[0m",
      "\u001b[0;31mTypeError\u001b[0m                                 Traceback (most recent call last)",
      "\u001b[0;32m~/miniconda3/lib/python3.9/site-packages/pandas/core/ops/array_ops.py\u001b[0m in \u001b[0;36m_na_arithmetic_op\u001b[0;34m(left, right, op, is_cmp)\u001b[0m\n\u001b[1;32m    141\u001b[0m     \u001b[0;32mtry\u001b[0m\u001b[0;34m:\u001b[0m\u001b[0;34m\u001b[0m\u001b[0;34m\u001b[0m\u001b[0m\n\u001b[0;32m--> 142\u001b[0;31m         \u001b[0mresult\u001b[0m \u001b[0;34m=\u001b[0m \u001b[0mexpressions\u001b[0m\u001b[0;34m.\u001b[0m\u001b[0mevaluate\u001b[0m\u001b[0;34m(\u001b[0m\u001b[0mop\u001b[0m\u001b[0;34m,\u001b[0m \u001b[0mleft\u001b[0m\u001b[0;34m,\u001b[0m \u001b[0mright\u001b[0m\u001b[0;34m)\u001b[0m\u001b[0;34m\u001b[0m\u001b[0;34m\u001b[0m\u001b[0m\n\u001b[0m\u001b[1;32m    143\u001b[0m     \u001b[0;32mexcept\u001b[0m \u001b[0mTypeError\u001b[0m\u001b[0;34m:\u001b[0m\u001b[0;34m\u001b[0m\u001b[0;34m\u001b[0m\u001b[0m\n",
      "\u001b[0;32m~/miniconda3/lib/python3.9/site-packages/pandas/core/computation/expressions.py\u001b[0m in \u001b[0;36mevaluate\u001b[0;34m(op, a, b, use_numexpr)\u001b[0m\n\u001b[1;32m    234\u001b[0m             \u001b[0;31m# error: \"None\" not callable\u001b[0m\u001b[0;34m\u001b[0m\u001b[0;34m\u001b[0m\u001b[0;34m\u001b[0m\u001b[0m\n\u001b[0;32m--> 235\u001b[0;31m             \u001b[0;32mreturn\u001b[0m \u001b[0m_evaluate\u001b[0m\u001b[0;34m(\u001b[0m\u001b[0mop\u001b[0m\u001b[0;34m,\u001b[0m \u001b[0mop_str\u001b[0m\u001b[0;34m,\u001b[0m \u001b[0ma\u001b[0m\u001b[0;34m,\u001b[0m \u001b[0mb\u001b[0m\u001b[0;34m)\u001b[0m  \u001b[0;31m# type: ignore[misc]\u001b[0m\u001b[0;34m\u001b[0m\u001b[0;34m\u001b[0m\u001b[0m\n\u001b[0m\u001b[1;32m    236\u001b[0m     \u001b[0;32mreturn\u001b[0m \u001b[0m_evaluate_standard\u001b[0m\u001b[0;34m(\u001b[0m\u001b[0mop\u001b[0m\u001b[0;34m,\u001b[0m \u001b[0mop_str\u001b[0m\u001b[0;34m,\u001b[0m \u001b[0ma\u001b[0m\u001b[0;34m,\u001b[0m \u001b[0mb\u001b[0m\u001b[0;34m)\u001b[0m\u001b[0;34m\u001b[0m\u001b[0;34m\u001b[0m\u001b[0m\n",
      "\u001b[0;32m~/miniconda3/lib/python3.9/site-packages/pandas/core/computation/expressions.py\u001b[0m in \u001b[0;36m_evaluate_standard\u001b[0;34m(op, op_str, a, b)\u001b[0m\n\u001b[1;32m     68\u001b[0m     \u001b[0;32mwith\u001b[0m \u001b[0mnp\u001b[0m\u001b[0;34m.\u001b[0m\u001b[0merrstate\u001b[0m\u001b[0;34m(\u001b[0m\u001b[0mall\u001b[0m\u001b[0;34m=\u001b[0m\u001b[0;34m\"ignore\"\u001b[0m\u001b[0;34m)\u001b[0m\u001b[0;34m:\u001b[0m\u001b[0;34m\u001b[0m\u001b[0;34m\u001b[0m\u001b[0m\n\u001b[0;32m---> 69\u001b[0;31m         \u001b[0;32mreturn\u001b[0m \u001b[0mop\u001b[0m\u001b[0;34m(\u001b[0m\u001b[0ma\u001b[0m\u001b[0;34m,\u001b[0m \u001b[0mb\u001b[0m\u001b[0;34m)\u001b[0m\u001b[0;34m\u001b[0m\u001b[0;34m\u001b[0m\u001b[0m\n\u001b[0m\u001b[1;32m     70\u001b[0m \u001b[0;34m\u001b[0m\u001b[0m\n",
      "\u001b[0;31mTypeError\u001b[0m: unsupported operand type(s) for -: 'str' and 'int'",
      "\nDuring handling of the above exception, another exception occurred:\n",
      "\u001b[0;31mTypeError\u001b[0m                                 Traceback (most recent call last)",
      "\u001b[0;32m<ipython-input-64-6cbeb256474a>\u001b[0m in \u001b[0;36m<module>\u001b[0;34m\u001b[0m\n\u001b[1;32m      4\u001b[0m \u001b[0mdfReg1\u001b[0m\u001b[0;34m=\u001b[0m\u001b[0mdfReg\u001b[0m\u001b[0;34m.\u001b[0m\u001b[0mcopy\u001b[0m\u001b[0;34m(\u001b[0m\u001b[0;34m)\u001b[0m\u001b[0;34m\u001b[0m\u001b[0;34m\u001b[0m\u001b[0m\n\u001b[1;32m      5\u001b[0m \u001b[0;34m\u001b[0m\u001b[0m\n\u001b[0;32m----> 6\u001b[0;31m \u001b[0mdiff\u001b[0m\u001b[0;34m=\u001b[0m \u001b[0mtime\u001b[0m\u001b[0;34m[\u001b[0m\u001b[0;34m'newTime'\u001b[0m\u001b[0;34m]\u001b[0m\u001b[0;34m-\u001b[0m\u001b[0mdfReg1\u001b[0m\u001b[0;34m[\u001b[0m\u001b[0;34m'CRS_ARR_TIME'\u001b[0m\u001b[0;34m]\u001b[0m\u001b[0;34m\u001b[0m\u001b[0;34m\u001b[0m\u001b[0m\n\u001b[0m\u001b[1;32m      7\u001b[0m \u001b[0;34m\u001b[0m\u001b[0m\n\u001b[1;32m      8\u001b[0m \u001b[0mdiff\u001b[0m\u001b[0;34m=\u001b[0m\u001b[0mdiff\u001b[0m\u001b[0;34m/\u001b[0m\u001b[0;36m60\u001b[0m\u001b[0;34m\u001b[0m\u001b[0;34m\u001b[0m\u001b[0m\n",
      "\u001b[0;32m~/miniconda3/lib/python3.9/site-packages/pandas/core/ops/common.py\u001b[0m in \u001b[0;36mnew_method\u001b[0;34m(self, other)\u001b[0m\n\u001b[1;32m     63\u001b[0m         \u001b[0mother\u001b[0m \u001b[0;34m=\u001b[0m \u001b[0mitem_from_zerodim\u001b[0m\u001b[0;34m(\u001b[0m\u001b[0mother\u001b[0m\u001b[0;34m)\u001b[0m\u001b[0;34m\u001b[0m\u001b[0;34m\u001b[0m\u001b[0m\n\u001b[1;32m     64\u001b[0m \u001b[0;34m\u001b[0m\u001b[0m\n\u001b[0;32m---> 65\u001b[0;31m         \u001b[0;32mreturn\u001b[0m \u001b[0mmethod\u001b[0m\u001b[0;34m(\u001b[0m\u001b[0mself\u001b[0m\u001b[0;34m,\u001b[0m \u001b[0mother\u001b[0m\u001b[0;34m)\u001b[0m\u001b[0;34m\u001b[0m\u001b[0;34m\u001b[0m\u001b[0m\n\u001b[0m\u001b[1;32m     66\u001b[0m \u001b[0;34m\u001b[0m\u001b[0m\n\u001b[1;32m     67\u001b[0m     \u001b[0;32mreturn\u001b[0m \u001b[0mnew_method\u001b[0m\u001b[0;34m\u001b[0m\u001b[0;34m\u001b[0m\u001b[0m\n",
      "\u001b[0;32m~/miniconda3/lib/python3.9/site-packages/pandas/core/arraylike.py\u001b[0m in \u001b[0;36m__sub__\u001b[0;34m(self, other)\u001b[0m\n\u001b[1;32m     95\u001b[0m     \u001b[0;34m@\u001b[0m\u001b[0munpack_zerodim_and_defer\u001b[0m\u001b[0;34m(\u001b[0m\u001b[0;34m\"__sub__\"\u001b[0m\u001b[0;34m)\u001b[0m\u001b[0;34m\u001b[0m\u001b[0;34m\u001b[0m\u001b[0m\n\u001b[1;32m     96\u001b[0m     \u001b[0;32mdef\u001b[0m \u001b[0m__sub__\u001b[0m\u001b[0;34m(\u001b[0m\u001b[0mself\u001b[0m\u001b[0;34m,\u001b[0m \u001b[0mother\u001b[0m\u001b[0;34m)\u001b[0m\u001b[0;34m:\u001b[0m\u001b[0;34m\u001b[0m\u001b[0;34m\u001b[0m\u001b[0m\n\u001b[0;32m---> 97\u001b[0;31m         \u001b[0;32mreturn\u001b[0m \u001b[0mself\u001b[0m\u001b[0;34m.\u001b[0m\u001b[0m_arith_method\u001b[0m\u001b[0;34m(\u001b[0m\u001b[0mother\u001b[0m\u001b[0;34m,\u001b[0m \u001b[0moperator\u001b[0m\u001b[0;34m.\u001b[0m\u001b[0msub\u001b[0m\u001b[0;34m)\u001b[0m\u001b[0;34m\u001b[0m\u001b[0;34m\u001b[0m\u001b[0m\n\u001b[0m\u001b[1;32m     98\u001b[0m \u001b[0;34m\u001b[0m\u001b[0m\n\u001b[1;32m     99\u001b[0m     \u001b[0;34m@\u001b[0m\u001b[0munpack_zerodim_and_defer\u001b[0m\u001b[0;34m(\u001b[0m\u001b[0;34m\"__rsub__\"\u001b[0m\u001b[0;34m)\u001b[0m\u001b[0;34m\u001b[0m\u001b[0;34m\u001b[0m\u001b[0m\n",
      "\u001b[0;32m~/miniconda3/lib/python3.9/site-packages/pandas/core/series.py\u001b[0m in \u001b[0;36m_arith_method\u001b[0;34m(self, other, op)\u001b[0m\n\u001b[1;32m   4996\u001b[0m         \u001b[0mlvalues\u001b[0m \u001b[0;34m=\u001b[0m \u001b[0mextract_array\u001b[0m\u001b[0;34m(\u001b[0m\u001b[0mself\u001b[0m\u001b[0;34m,\u001b[0m \u001b[0mextract_numpy\u001b[0m\u001b[0;34m=\u001b[0m\u001b[0;32mTrue\u001b[0m\u001b[0;34m)\u001b[0m\u001b[0;34m\u001b[0m\u001b[0;34m\u001b[0m\u001b[0m\n\u001b[1;32m   4997\u001b[0m         \u001b[0mrvalues\u001b[0m \u001b[0;34m=\u001b[0m \u001b[0mextract_array\u001b[0m\u001b[0;34m(\u001b[0m\u001b[0mother\u001b[0m\u001b[0;34m,\u001b[0m \u001b[0mextract_numpy\u001b[0m\u001b[0;34m=\u001b[0m\u001b[0;32mTrue\u001b[0m\u001b[0;34m)\u001b[0m\u001b[0;34m\u001b[0m\u001b[0;34m\u001b[0m\u001b[0m\n\u001b[0;32m-> 4998\u001b[0;31m         \u001b[0mresult\u001b[0m \u001b[0;34m=\u001b[0m \u001b[0mops\u001b[0m\u001b[0;34m.\u001b[0m\u001b[0marithmetic_op\u001b[0m\u001b[0;34m(\u001b[0m\u001b[0mlvalues\u001b[0m\u001b[0;34m,\u001b[0m \u001b[0mrvalues\u001b[0m\u001b[0;34m,\u001b[0m \u001b[0mop\u001b[0m\u001b[0;34m)\u001b[0m\u001b[0;34m\u001b[0m\u001b[0;34m\u001b[0m\u001b[0m\n\u001b[0m\u001b[1;32m   4999\u001b[0m \u001b[0;34m\u001b[0m\u001b[0m\n\u001b[1;32m   5000\u001b[0m         \u001b[0;32mreturn\u001b[0m \u001b[0mself\u001b[0m\u001b[0;34m.\u001b[0m\u001b[0m_construct_result\u001b[0m\u001b[0;34m(\u001b[0m\u001b[0mresult\u001b[0m\u001b[0;34m,\u001b[0m \u001b[0mname\u001b[0m\u001b[0;34m=\u001b[0m\u001b[0mres_name\u001b[0m\u001b[0;34m)\u001b[0m\u001b[0;34m\u001b[0m\u001b[0;34m\u001b[0m\u001b[0m\n",
      "\u001b[0;32m~/miniconda3/lib/python3.9/site-packages/pandas/core/ops/array_ops.py\u001b[0m in \u001b[0;36marithmetic_op\u001b[0;34m(left, right, op)\u001b[0m\n\u001b[1;32m    187\u001b[0m     \u001b[0;32melse\u001b[0m\u001b[0;34m:\u001b[0m\u001b[0;34m\u001b[0m\u001b[0;34m\u001b[0m\u001b[0m\n\u001b[1;32m    188\u001b[0m         \u001b[0;32mwith\u001b[0m \u001b[0mnp\u001b[0m\u001b[0;34m.\u001b[0m\u001b[0merrstate\u001b[0m\u001b[0;34m(\u001b[0m\u001b[0mall\u001b[0m\u001b[0;34m=\u001b[0m\u001b[0;34m\"ignore\"\u001b[0m\u001b[0;34m)\u001b[0m\u001b[0;34m:\u001b[0m\u001b[0;34m\u001b[0m\u001b[0;34m\u001b[0m\u001b[0m\n\u001b[0;32m--> 189\u001b[0;31m             \u001b[0mres_values\u001b[0m \u001b[0;34m=\u001b[0m \u001b[0m_na_arithmetic_op\u001b[0m\u001b[0;34m(\u001b[0m\u001b[0mlvalues\u001b[0m\u001b[0;34m,\u001b[0m \u001b[0mrvalues\u001b[0m\u001b[0;34m,\u001b[0m \u001b[0mop\u001b[0m\u001b[0;34m)\u001b[0m\u001b[0;34m\u001b[0m\u001b[0;34m\u001b[0m\u001b[0m\n\u001b[0m\u001b[1;32m    190\u001b[0m \u001b[0;34m\u001b[0m\u001b[0m\n\u001b[1;32m    191\u001b[0m     \u001b[0;32mreturn\u001b[0m \u001b[0mres_values\u001b[0m\u001b[0;34m\u001b[0m\u001b[0;34m\u001b[0m\u001b[0m\n",
      "\u001b[0;32m~/miniconda3/lib/python3.9/site-packages/pandas/core/ops/array_ops.py\u001b[0m in \u001b[0;36m_na_arithmetic_op\u001b[0;34m(left, right, op, is_cmp)\u001b[0m\n\u001b[1;32m    147\u001b[0m             \u001b[0;31m#  will handle complex numbers incorrectly, see GH#32047\u001b[0m\u001b[0;34m\u001b[0m\u001b[0;34m\u001b[0m\u001b[0;34m\u001b[0m\u001b[0m\n\u001b[1;32m    148\u001b[0m             \u001b[0;32mraise\u001b[0m\u001b[0;34m\u001b[0m\u001b[0;34m\u001b[0m\u001b[0m\n\u001b[0;32m--> 149\u001b[0;31m         \u001b[0mresult\u001b[0m \u001b[0;34m=\u001b[0m \u001b[0m_masked_arith_op\u001b[0m\u001b[0;34m(\u001b[0m\u001b[0mleft\u001b[0m\u001b[0;34m,\u001b[0m \u001b[0mright\u001b[0m\u001b[0;34m,\u001b[0m \u001b[0mop\u001b[0m\u001b[0;34m)\u001b[0m\u001b[0;34m\u001b[0m\u001b[0;34m\u001b[0m\u001b[0m\n\u001b[0m\u001b[1;32m    150\u001b[0m \u001b[0;34m\u001b[0m\u001b[0m\n\u001b[1;32m    151\u001b[0m     \u001b[0;32mif\u001b[0m \u001b[0mis_cmp\u001b[0m \u001b[0;32mand\u001b[0m \u001b[0;34m(\u001b[0m\u001b[0mis_scalar\u001b[0m\u001b[0;34m(\u001b[0m\u001b[0mresult\u001b[0m\u001b[0;34m)\u001b[0m \u001b[0;32mor\u001b[0m \u001b[0mresult\u001b[0m \u001b[0;32mis\u001b[0m \u001b[0mNotImplemented\u001b[0m\u001b[0;34m)\u001b[0m\u001b[0;34m:\u001b[0m\u001b[0;34m\u001b[0m\u001b[0;34m\u001b[0m\u001b[0m\n",
      "\u001b[0;32m~/miniconda3/lib/python3.9/site-packages/pandas/core/ops/array_ops.py\u001b[0m in \u001b[0;36m_masked_arith_op\u001b[0;34m(x, y, op)\u001b[0m\n\u001b[1;32m     89\u001b[0m         \u001b[0;32mif\u001b[0m \u001b[0mmask\u001b[0m\u001b[0;34m.\u001b[0m\u001b[0many\u001b[0m\u001b[0;34m(\u001b[0m\u001b[0;34m)\u001b[0m\u001b[0;34m:\u001b[0m\u001b[0;34m\u001b[0m\u001b[0;34m\u001b[0m\u001b[0m\n\u001b[1;32m     90\u001b[0m             \u001b[0;32mwith\u001b[0m \u001b[0mnp\u001b[0m\u001b[0;34m.\u001b[0m\u001b[0merrstate\u001b[0m\u001b[0;34m(\u001b[0m\u001b[0mall\u001b[0m\u001b[0;34m=\u001b[0m\u001b[0;34m\"ignore\"\u001b[0m\u001b[0;34m)\u001b[0m\u001b[0;34m:\u001b[0m\u001b[0;34m\u001b[0m\u001b[0;34m\u001b[0m\u001b[0m\n\u001b[0;32m---> 91\u001b[0;31m                 \u001b[0mresult\u001b[0m\u001b[0;34m[\u001b[0m\u001b[0mmask\u001b[0m\u001b[0;34m]\u001b[0m \u001b[0;34m=\u001b[0m \u001b[0mop\u001b[0m\u001b[0;34m(\u001b[0m\u001b[0mxrav\u001b[0m\u001b[0;34m[\u001b[0m\u001b[0mmask\u001b[0m\u001b[0;34m]\u001b[0m\u001b[0;34m,\u001b[0m \u001b[0myrav\u001b[0m\u001b[0;34m[\u001b[0m\u001b[0mmask\u001b[0m\u001b[0;34m]\u001b[0m\u001b[0;34m)\u001b[0m\u001b[0;34m\u001b[0m\u001b[0;34m\u001b[0m\u001b[0m\n\u001b[0m\u001b[1;32m     92\u001b[0m \u001b[0;34m\u001b[0m\u001b[0m\n\u001b[1;32m     93\u001b[0m     \u001b[0;32melse\u001b[0m\u001b[0;34m:\u001b[0m\u001b[0;34m\u001b[0m\u001b[0;34m\u001b[0m\u001b[0m\n",
      "\u001b[0;31mTypeError\u001b[0m: unsupported operand type(s) for -: 'str' and 'int'"
     ]
    }
   ],
   "source": [
    "\n",
    "import matplotlib.pyplot as plt\n",
    "\n",
    "\n",
    "dfReg1=dfReg.copy()\n",
    "\n",
    "diff= time['newTime']-dfReg1['CRS_ARR_TIME']\n",
    "\n",
    "diff=diff/60\n",
    "print(diff)\n",
    "plt.hist(diff,bins=200,range=(-2.5,10),log=True)\n",
    "\n",
    "#Pretty good balance"
   ]
  },
  {
   "cell_type": "code",
   "execution_count": null,
   "id": "7794cf59",
   "metadata": {},
   "outputs": [],
   "source": [
    "print(dfReg['CRS_ARR_TIME'])\n",
    "print(dfReg['ARR_TIME'])"
   ]
  },
  {
   "cell_type": "markdown",
   "id": "97ca8a5c",
   "metadata": {},
   "source": [
    "# Data Preperation Part II"
   ]
  },
  {
   "cell_type": "markdown",
   "id": "5077ee4d",
   "metadata": {},
   "source": [
    "# Modeling and Evaluation 1"
   ]
  },
  {
   "cell_type": "markdown",
   "id": "6a0cf22d",
   "metadata": {},
   "source": [
    "# Modeling and Evaluation 2"
   ]
  },
  {
   "cell_type": "markdown",
   "id": "d29b3acc",
   "metadata": {},
   "source": [
    "# Modeling and Evaluation 3"
   ]
  },
  {
   "cell_type": "markdown",
   "id": "d5ed92d2",
   "metadata": {},
   "source": [
    "# Modeling and Evaluation 4"
   ]
  },
  {
   "cell_type": "markdown",
   "id": "40c848ec",
   "metadata": {},
   "source": [
    "# Modeling and Evaluation 5"
   ]
  },
  {
   "cell_type": "markdown",
   "id": "be707590",
   "metadata": {},
   "source": [
    "# Modeling and Evaluation 6"
   ]
  },
  {
   "cell_type": "markdown",
   "id": "34983ef5",
   "metadata": {},
   "source": [
    "# Deployment"
   ]
  },
  {
   "cell_type": "markdown",
   "id": "3ff0b9b0",
   "metadata": {},
   "source": [
    "# Exceptional Work\n",
    "\n",
    "Section not required due to team size"
   ]
  }
 ],
 "metadata": {
  "kernelspec": {
   "display_name": "Python 3",
   "language": "python",
   "name": "python3"
  },
  "language_info": {
   "codemirror_mode": {
    "name": "ipython",
    "version": 3
   },
   "file_extension": ".py",
   "mimetype": "text/x-python",
   "name": "python",
   "nbconvert_exporter": "python",
   "pygments_lexer": "ipython3",
   "version": "3.9.1"
  }
 },
 "nbformat": 4,
 "nbformat_minor": 5
}
